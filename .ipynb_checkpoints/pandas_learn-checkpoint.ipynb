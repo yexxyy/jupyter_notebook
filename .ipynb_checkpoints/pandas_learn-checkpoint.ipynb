{
 "cells": [
  {
   "cell_type": "code",
   "execution_count": 262,
   "metadata": {},
   "outputs": [
    {
     "ename": "SyntaxError",
     "evalue": "invalid character in identifier (<ipython-input-262-03d2f72fb9b1>, line 31)",
     "output_type": "error",
     "traceback": [
      "\u001b[0;36m  File \u001b[0;32m\"<ipython-input-262-03d2f72fb9b1>\"\u001b[0;36m, line \u001b[0;32m31\u001b[0m\n\u001b[0;31m    print (duty_time)·\u001b[0m\n\u001b[0m                     ^\u001b[0m\n\u001b[0;31mSyntaxError\u001b[0m\u001b[0;31m:\u001b[0m invalid character in identifier\n"
     ]
    }
   ],
   "source": [
    "import pandas as pd\n",
    "import datetime\n",
    "from collections import Counter\n",
    "\n",
    "path='/Users/yexianyong/Downloads/福年-11月原始打卡数据.xlsx'\n",
    "data=pd.read_excel(path)\n",
    "data = data[(data['姓名'] == \"叶显勇\")]\n",
    "print(data)\n",
    "\n",
    "index = data.index[3]\n",
    "\n",
    "\n",
    "\n",
    "    \n",
    "\n",
    "\n",
    "      "
   ]
  }
 ],
 "metadata": {
  "kernelspec": {
   "display_name": "Python 3",
   "language": "python",
   "name": "python3"
  },
  "language_info": {
   "codemirror_mode": {
    "name": "ipython",
    "version": 3
   },
   "file_extension": ".py",
   "mimetype": "text/x-python",
   "name": "python",
   "nbconvert_exporter": "python",
   "pygments_lexer": "ipython3",
   "version": "3.6.1"
  }
 },
 "nbformat": 4,
 "nbformat_minor": 2
}
