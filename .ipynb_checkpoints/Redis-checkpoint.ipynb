{
 "cells": [
  {
   "cell_type": "code",
   "execution_count": null,
   "metadata": {},
   "outputs": [],
   "source": [
    "import redis\n",
    "\n",
    "redis_zhilian=redis.Redis(host='127.0.0.1',port=6379,db=7,decode_responses=True)\n",
    "com_md5='com_md5s'\n",
    "redis_zhilian.sadd(com_md5,'qwerasdfasdfasdfasdf','f')\n",
    "\n",
    "print(redis_zhilian.smembers(com_md5))\n",
    "if 'df' in redis_zhilian.smembers(com_md5):\n",
    "    print(True)\n",
    "    \n",
    "redis_zhilian.delete(com_md5)\n",
    "print(redis_zhilian.smembers(com_md5))\n",
    " "
   ]
  },
  {
   "cell_type": "code",
   "execution_count": null,
   "metadata": {},
   "outputs": [],
   "source": [
    "#redis消息对列：生产者消费者模式\n",
    "import redis\n",
    "\n",
    "class Task:\n",
    "    def __init__(self):\n",
    "        self.rcon=redis.Redis(host='localhost',db=5)\n",
    "        self.queue='mes_queue'\n",
    "    \n",
    "    def process_task(self):\n",
    "        while True:\n",
    "            task=self.rcon.blpop(self.queue,0)[1]\n",
    "            print('Task:',task)\n",
    "\n",
    "#监听消息            \n",
    "Task().process_task()\n",
    "\n",
    "#推送消息\n",
    "#然后在另一个地方执行：lpush mes_queue “This is the pushed message”\n"
   ]
  },
  {
   "cell_type": "code",
   "execution_count": null,
   "metadata": {},
   "outputs": [],
   "source": [
    "#redis消息对列：订阅模式\n",
    "import redis\n",
    "\n",
    "class Task:\n",
    "    def __init__(self):\n",
    "        self.rcon=redis.Redis(host='localhost',db=5)\n",
    "        self.ps=self.rcon.pubsub()\n",
    "        self.ps.subscribe('mes_sub')\n",
    "        \n",
    "    def process_task(self):\n",
    "        for i in self.ps.listen():\n",
    "            if i['type']=='message':\n",
    "                print('Task:',i['data'])\n",
    "\n",
    "Task().process_task()\n"
   ]
  }
 ],
 "metadata": {
  "kernelspec": {
   "display_name": "Python 3",
   "language": "python",
   "name": "python3"
  },
  "language_info": {
   "codemirror_mode": {
    "name": "ipython",
    "version": 3
   },
   "file_extension": ".py",
   "mimetype": "text/x-python",
   "name": "python",
   "nbconvert_exporter": "python",
   "pygments_lexer": "ipython3",
   "version": "3.6.1"
  }
 },
 "nbformat": 4,
 "nbformat_minor": 2
}
