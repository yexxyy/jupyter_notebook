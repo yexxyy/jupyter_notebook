{
 "cells": [
  {
   "cell_type": "code",
   "execution_count": 1,
   "metadata": {},
   "outputs": [
    {
     "name": "stdout",
     "output_type": "stream",
     "text": [
      "ParseResult(scheme='https', netloc='docs.python.org', path='/3.5/search.html', params='', query='q=parse&check_keywords=yes&area=default', fragment='')\n",
      "{'q': ['parse'], 'check_keywords': ['yes'], 'area': ['default']}\n"
     ]
    }
   ],
   "source": [
    "from urllib import parse\n",
    "\n",
    "url = r'https://docs.python.org/3.5/search.html?q=parse&check_keywords=yes&area=default'\n",
    "\n",
    "result=parse.urlparse(url)\n",
    "print(result)\n",
    "param_dict=parse.parse_qs(result.query)\n",
    "print(param_dict)"
   ]
  }
 ],
 "metadata": {
  "kernelspec": {
   "display_name": "Python 3",
   "language": "python",
   "name": "python3"
  },
  "language_info": {
   "codemirror_mode": {
    "name": "ipython",
    "version": 3
   },
   "file_extension": ".py",
   "mimetype": "text/x-python",
   "name": "python",
   "nbconvert_exporter": "python",
   "pygments_lexer": "ipython3",
   "version": "3.6.1"
  }
 },
 "nbformat": 4,
 "nbformat_minor": 2
}
