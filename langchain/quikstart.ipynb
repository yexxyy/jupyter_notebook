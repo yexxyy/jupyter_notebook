{
 "cells": [
  {
   "cell_type": "code",
   "execution_count": 1,
   "id": "04e70c6a-9317-478a-b63f-bdc8523da485",
   "metadata": {},
   "outputs": [],
   "source": [
    "from langchain_community.document_loaders import PyPDFLoader\n",
    "from langchain_text_splitters import RecursiveCharacterTextSplitter\n",
    "from langchain_community.embeddings import HuggingFaceEmbeddings\n",
    "from langchain_community.vectorstores import FAISS\n",
    "from langchain.chains import RetrievalQA\n",
    "from langchain_deepseek import ChatDeepSeek\n",
    "\n",
    "llm = ChatDeepSeek(\n",
    "    model=\"deepseek-chat\",\n",
    "    api_key=\"sk-4b40daf3dbb04a6b9d1a3cc014821e11\"  # 替换为实际API密钥\n",
    ")"
   ]
  },
  {
   "cell_type": "code",
   "execution_count": 3,
   "id": "a54a1fe3",
   "metadata": {},
   "outputs": [
    {
     "data": {
      "text/plain": [
       "AIMessage(content='LangSmith 是 LangChain 生态系统中的一个重要工具，主要用于 **调试、测试、监控和优化** 基于 LangChain 开发的应用程序。它在 LangChain 中的作用可以总结为以下几个方面：\\n\\n---\\n\\n### 1. **调试与可视化**\\n   - **记录链式调用（Chain Traces）**：LangSmith 可以捕获 LangChain 应用的完整执行流程（如 LLM 调用、工具使用、中间步骤等），并以可视化的形式展示，帮助开发者快速定位问题。\\n   - **检查输入/输出**：详细记录每个步骤的输入参数和输出结果，方便排查错误或意外行为。\\n\\n---\\n\\n### 2. **测试与评估**\\n   - **数据集测试**：允许用户上传或生成测试数据集，批量运行 LangChain 应用，并对比不同版本或提示词（Prompts）的效果。\\n   - **自动化评估**：支持自定义评估指标（如准确性、延迟、成本等），或利用内置的 LLM 评估器自动评分。\\n\\n---\\n\\n### 3. **监控与分析**\\n   - **生产环境监控**：记录生产环境中应用的运行情况，包括延迟、错误率、Token 消耗等指标。\\n   - **性能优化**：通过分析历史请求数据，识别性能瓶颈（如高延迟的 LLM 调用）或高成本环节。\\n\\n---\\n\\n### 4. **协作与迭代**\\n   - **共享与协作**：团队可以通过 LangSmith 共享调试记录、测试结果或监控面板，加速迭代开发。\\n   - **版本对比**：比较不同提示词、模型或链结构的性能差异，辅助决策优化方向。\\n\\n---\\n\\n### 5. **与 LangChain 深度集成**\\n   - **无缝对接**：通过简单的环境变量配置，即可将 LangChain 应用的日志自动发送到 LangSmith。\\n   - **支持多种组件**：涵盖 Chains、Agents、Tools、Retrievers 等 LangChain 核心模块的跟踪。\\n\\n---\\n\\n### 使用场景示例\\n- **开发阶段**：调试一个复杂的 Agent，检查为什么工具调用失败。\\n- **评估阶段**：测试不同 LLM（如 GPT-4 与 Claude）在特定任务上的表现。\\n- **生产阶段**：监控用户请求的响应时间，发现异常峰值。\\n\\n---\\n\\n### 总结\\nLangSmith 是 LangChain 的“增强工具包”，通过提供 **端到端的可观测性**，帮助开发者更高效地构建、优化和维护基于 LangChain 的 AI 应用。尤其适合复杂应用（如多步骤推理、Agent 系统）的开发和运维。\\n\\n如需进一步了解，可参考 [LangSmith 官方文档](https://docs.smith.langchain.com/)。', additional_kwargs={'refusal': None}, response_metadata={'token_usage': {'completion_tokens': 556, 'prompt_tokens': 10, 'total_tokens': 566, 'completion_tokens_details': None, 'prompt_tokens_details': {'audio_tokens': None, 'cached_tokens': 0}, 'prompt_cache_hit_tokens': 0, 'prompt_cache_miss_tokens': 10}, 'model_name': 'deepseek-chat', 'system_fingerprint': 'fp_8802369eaa_prod0623_fp8_kvcache', 'id': 'e2139f32-cac5-4415-a76d-24333563d4a0', 'service_tier': None, 'finish_reason': 'stop', 'logprobs': None}, id='run--dc5da787-a637-4139-b950-95c7dfe902e1-0', usage_metadata={'input_tokens': 10, 'output_tokens': 556, 'total_tokens': 566, 'input_token_details': {'cache_read': 0}, 'output_token_details': {}})"
      ]
     },
     "execution_count": 3,
     "metadata": {},
     "output_type": "execute_result"
    }
   ],
   "source": [
    "llm.invoke(\"langsmith 在langchain中的作用\")"
   ]
  },
  {
   "cell_type": "code",
   "execution_count": 4,
   "id": "9da7fbf1",
   "metadata": {},
   "outputs": [
    {
     "data": {
      "text/plain": [
       "AIMessage(content='LangSmith 是 LangChain 官方推出的一个强大的调试和监控平台，它在 LangChain 生态系统中扮演着重要角色。以下是它的主要作用：\\n\\n1. **调试与可视化**\\n   - 提供调用链的完整可视化轨迹\\n   - 可以逐步查看每个组件的输入/输出\\n   - 特别适合调试复杂的链(Chain)和代理(Agent)\\n\\n2. **生产监控**\\n   - 记录所有模型调用和链执行\\n   - 提供性能指标(延迟、成功率等)\\n   - 支持设置警报和阈值\\n\\n3. **数据收集**\\n   - 自动收集用户与AI的交互数据\\n   - 为后续模型微调提供数据集\\n   - 支持人工标注和反馈收集\\n\\n4. **测试与评估**\\n   - 支持创建测试数据集\\n   - 可以运行批量测试比较不同提示词效果\\n   - 提供自动化的评估指标\\n\\n5. **协作功能**\\n   - 团队可以共享和讨论运行结果\\n   - 支持标注和注释特定运行\\n\\n使用示例：\\n```python\\nfrom langchain import hub\\nfrom langchain.agents import AgentExecutor, create_openai_functions_agent\\nfrom langsmith import Client\\n\\n# 初始化LangSmith客户端\\nclient = Client()\\n\\n# 创建并运行一个链\\nprompt = hub.pull(\"hwchase17/openai-functions-agent\")\\nagent = create_openai_functions_agent(llm, tools, prompt)\\nagent_executor = AgentExecutor(agent=agent, tools=tools)\\n\\n# 运行时会自动记录到LangSmith\\nresult = agent_executor.invoke({\"input\": \"...\"})\\n\\n# 可以手动查询运行记录\\nruns = client.list_runs(project_name=\"my-project\")\\n```\\n\\nLangSmith 需要单独注册和使用，它作为 LangChain 的配套服务，能显著提升开发效率和生产环境的可观测性。', additional_kwargs={'refusal': None}, response_metadata={'token_usage': {'completion_tokens': 396, 'prompt_tokens': 20, 'total_tokens': 416, 'completion_tokens_details': None, 'prompt_tokens_details': {'audio_tokens': None, 'cached_tokens': 0}, 'prompt_cache_hit_tokens': 0, 'prompt_cache_miss_tokens': 20}, 'model_name': 'deepseek-chat', 'system_fingerprint': 'fp_8802369eaa_prod0623_fp8_kvcache', 'id': '21b7c4c5-24a8-490c-8319-327ee91bcc95', 'service_tier': None, 'finish_reason': 'stop', 'logprobs': None}, id='run--03a093a6-2073-4723-9be1-77dc826b18bf-0', usage_metadata={'input_tokens': 20, 'output_tokens': 396, 'total_tokens': 416, 'input_token_details': {'cache_read': 0}, 'output_token_details': {}})"
      ]
     },
     "execution_count": 4,
     "metadata": {},
     "output_type": "execute_result"
    }
   ],
   "source": [
    "from langchain_core.prompts import ChatPromptTemplate\n",
    "prompt = ChatPromptTemplate.from_messages([\n",
    "    (\"system\", \"你是一个python程序员，最近在学langchain\"),\n",
    "    (\"user\", \"{input}\")\n",
    "])\n",
    "chain = prompt | llm \n",
    "chain.invoke({\"input\": \"langsmith 在langchain中的作用\"})\n"
   ]
  },
  {
   "cell_type": "code",
   "execution_count": 5,
   "id": "b89e0259",
   "metadata": {},
   "outputs": [
    {
     "data": {
      "text/plain": [
       "'LangSmith 是 LangChain 官方推出的一个强大的调试和监控平台，它在 LangChain 生态系统中扮演着重要角色。以下是它的主要作用：\\n\\n1. **调试和可视化**：\\n   - 提供可视化界面展示整个链的执行流程\\n   - 可以逐步查看每个组件的输入输出\\n   - 特别适合调试复杂的链式调用\\n\\n2. **生产监控**：\\n   - 记录和追踪生产环境中链的执行情况\\n   - 监控性能指标（如延迟、错误率）\\n   - 帮助识别生产环境中的问题\\n\\n3. **数据收集**：\\n   - 自动记录所有链的执行轨迹\\n   - 为后续分析和改进提供数据支持\\n   - 可用于创建评估数据集\\n\\n4. **协作功能**：\\n   - 团队可以共享和讨论执行结果\\n   - 方便知识共享和问题排查\\n\\n5. **与LangChain深度集成**：\\n   - 通过简单配置即可将现有LangChain应用连接到LangSmith\\n   - 支持各种LangChain组件（LLMs、工具、代理等）\\n\\n基本使用方法：\\n```python\\nfrom langchain import OpenAI\\nimport os\\n\\n# 设置环境变量\\nos.environ[\"LANGCHAIN_TRACING_V2\"] = \"true\"\\nos.environ[\"LANGCHAIN_PROJECT\"] = \"My Project\"\\nos.environ[\"LANGCHAIN_API_KEY\"] = \"your-api-key\"\\n\\n# 正常使用LangChain\\nllm = OpenAI()\\nresponse = llm(\"Tell me a joke\")\\n```\\n\\nLangSmith 特别适合以下场景：\\n- 开发复杂LangChain应用时\\n- 需要将LangChain应用部署到生产环境时\\n- 团队协作开发AI应用时\\n- 需要分析优化链的性能时\\n\\n注意：LangSmith 是一个商业产品，有免费试用版但生产使用需要订阅。'"
      ]
     },
     "execution_count": 5,
     "metadata": {},
     "output_type": "execute_result"
    }
   ],
   "source": [
    "from langchain_core.output_parsers import StrOutputParser\n",
    " \n",
    "output_parser = StrOutputParser()\n",
    "chain = prompt | llm | output_parser\n",
    "chain.invoke({\"input\": \"langsmith 在langchain中的作用\"})"
   ]
  },
  {
   "cell_type": "code",
   "execution_count": null,
   "id": "75469c0f-ba25-4ce5-a502-b9d3cbfd875e",
   "metadata": {},
   "outputs": [],
   "source": [
    "from langchain_community.document_loaders import WebBaseLoader\n",
    "loader = WebBaseLoader(\"https://zhuanlan.zhihu.com/p/687882003\")\n",
    " \n",
    "docs = loader.load()\n",
    "\n"
   ]
  }
 ],
 "metadata": {
  "kernelspec": {
   "display_name": "Python 3 (ipykernel)",
   "language": "python",
   "name": "python3"
  },
  "language_info": {
   "codemirror_mode": {
    "name": "ipython",
    "version": 3
   },
   "file_extension": ".py",
   "mimetype": "text/x-python",
   "name": "python",
   "nbconvert_exporter": "python",
   "pygments_lexer": "ipython3",
   "version": "3.9.21"
  }
 },
 "nbformat": 4,
 "nbformat_minor": 5
}
