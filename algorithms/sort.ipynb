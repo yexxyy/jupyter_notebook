{
 "cells": [
  {
   "cell_type": "code",
   "execution_count": 32,
   "metadata": {},
   "outputs": [
    {
     "data": {
      "text/plain": [
       "([32, 45, 17, 32, 35, 43, 43, 41, 40, 33],\n",
       " [17, 32, 32, 33, 35, 40, 41, 43, 43, 45])"
      ]
     },
     "execution_count": 32,
     "metadata": {},
     "output_type": "execute_result"
    }
   ],
   "source": [
    "# 快速排序：时间复杂度O(n*logn)\n",
    "\n",
    "def qsort(arr):\n",
    "    if len(arr) < 2:\n",
    "        return arr\n",
    "\n",
    "    base = arr[0]\n",
    "    arr = arr[1:]\n",
    "    smaller = filter(lambda x: x <= base, arr)\n",
    "    bigger = filter(lambda x: x > base, arr)\n",
    "    return qsort(list(smaller)) + [base] + qsort(list(bigger))\n",
    "\n",
    "import numpy as np\n",
    "\n",
    "arr = np.random.randint(0, 50, 10)\n",
    "arr = [32, 45, 17, 32, 35, 43, 43, 41, 40, 33]\n",
    "arr, qsort(arr)\n"
   ]
  },
  {
   "cell_type": "code",
   "execution_count": 1,
   "metadata": {},
   "outputs": [
    {
     "name": "stdout",
     "output_type": "stream",
     "text": [
      "{'class1': {'student2': 1, 'student3': 2, 'student1': 3}, 'class2': {'student2': 1, 'student3': 2, 'student5': 2, 'student6': 2, 'student1': 5, 'student4': 6}}\n"
     ]
    }
   ],
   "source": [
    "def student_rank(data):\n",
    "    result = {}\n",
    "\n",
    "    for c, s in data.items():\n",
    "        result[c] = sort(s)\n",
    "    return result\n",
    "\n",
    "\n",
    "def sort(s):\n",
    "    sort_arr = sorted(s.items(), key=lambda obj: obj[1], reverse=True)\n",
    "    res = {}\n",
    "    tmp_score = 0\n",
    "    tmp_rank = 0\n",
    "    for index, item in enumerate(sort_arr):\n",
    "        if item[1] == tmp_score:\n",
    "            res[item[0]] = tmp_rank\n",
    "        else:\n",
    "            res[item[0]], tmp_rank, tmp_score = index + 1, index + 1, item[1]\n",
    "    return res\n",
    "\n",
    "\n",
    "result = student_rank(\n",
    "    {\n",
    "        \"class1\": {\n",
    "            \"student1\": 87,\n",
    "            \"student2\": 98,\n",
    "            \"student3\": 90\n",
    "        },\n",
    "        \"class2\": {\n",
    "            \"student1\": 76,\n",
    "            \"student2\": 97,\n",
    "            \"student3\": 88,\n",
    "            \"student4\": 60,\n",
    "            \"student5\": 88,\n",
    "            \"student6\": 88\n",
    "        }\n",
    "    }\n",
    ")\n",
    "print(result)"
   ]
  },
  {
   "cell_type": "code",
   "execution_count": 1,
   "metadata": {},
   "outputs": [],
   "source": [
    ""
   ]
  }
 ],
 "metadata": {
  "kernelspec": {
   "display_name": "Python 3",
   "language": "python",
   "name": "python3"
  },
  "language_info": {
   "codemirror_mode": {
    "name": "ipython",
    "version": 3
   },
   "file_extension": ".py",
   "mimetype": "text/x-python",
   "name": "python",
   "nbconvert_exporter": "python",
   "pygments_lexer": "ipython3",
   "version": "3.6.3"
  }
 },
 "nbformat": 4,
 "nbformat_minor": 2
}
