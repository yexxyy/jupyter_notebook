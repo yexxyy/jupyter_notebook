{
 "cells": [
  {
   "cell_type": "code",
   "execution_count": null,
   "metadata": {},
   "outputs": [
    {
     "name": "stdout",
     "output_type": "stream",
     "text": [
      "[2, 4, 3]\n",
      "[5, 6, 4]\n"
     ]
    }
   ],
   "source": [
    "# https://leetcode-cn.com/problems/add-two-numbers/solution/zui-zhi-bai-de-xie-fa-by-meng-zhi-hen-n-2/\n",
    "# Definition for singly-linked list.\n",
    "class ListNode:\n",
    "    def __init__(self, x):\n",
    "        self.val = x\n",
    "        self.next = None\n",
    "\n",
    "\n",
    "arr_1 = [2, 4, 3]\n",
    "arr_2 = [5, 6, 4]\n",
    "\n",
    "def create_node_list(arr):\n",
    "    node = ListNode(arr.pop(0))\n",
    "    head = node\n",
    "    while arr:\n",
    "        node.next = ListNode(arr.pop(0))\n",
    "        node = node.next\n",
    "    return head\n",
    "\n",
    "def print_node_list(head):\n",
    "    arr = []\n",
    "    while head:\n",
    "        arr.append(head.val)\n",
    "        head = head.next\n",
    "    print(arr)\n",
    "l1 = create_node_list(arr_1)\n",
    "l2 = create_node_list(arr_2)\n",
    "print_node_list(l1)\n",
    "print_node_list(l2)\n"
   ]
  },
  {
   "cell_type": "code",
   "execution_count": 36,
   "metadata": {},
   "outputs": [
    {
     "name": "stdout",
     "output_type": "stream",
     "text": [
      "[7, 0, 8]\n"
     ]
    }
   ],
   "source": [
    "class Solution:\n",
    "    def addTwoNumbers(self, l1: ListNode, l2: ListNode) -> ListNode:\n",
    "        dummy_node = node = ListNode(None)  # 返回节点、临时节点\n",
    "        s = 0  # 进位\n",
    "        while l1 or l2 or s:\n",
    "            s += (l1.val if l1 else 0) + (l2.val if l2 else 0)\n",
    "            node.next = ListNode(s % 10)\n",
    "            node = node.next\n",
    "            s //= 10\n",
    "            l1 = l1.next if l1 else None\n",
    "            l2 = l2.next if l2 else None\n",
    "        return dummy_node.next\n",
    "\n",
    "\n",
    "head = Solution().addTwoNumbers(l1, l2)\n",
    "print_node_list(head)\n"
   ]
  },
  {
   "cell_type": "code",
   "execution_count": 3,
   "metadata": {
    "scrolled": true
   },
   "outputs": [
    {
     "data": {
      "text/plain": [
       "3"
      ]
     },
     "execution_count": 3,
     "metadata": {},
     "output_type": "execute_result"
    }
   ],
   "source": [
    "# https://leetcode-cn.com/problems/longest-substring-without-repeating-characters/\n",
    "s = \"abcabcbb\"\n",
    "\n",
    "def substring_max_length(s):\n",
    "    window = []  # 存储当前窗口字符\n",
    "    max_length = 0\n",
    "\n",
    "    for char in s:\n",
    "        while char in window:\n",
    "            window.pop(0)\n",
    "        window.append(char)\n",
    "        max_length = max(len(window), max_length)\n",
    "    return max_length\n",
    "\n",
    "substring_max_length(s)\n"
   ]
  },
  {
   "cell_type": "code",
   "execution_count": 3,
   "metadata": {},
   "outputs": [],
   "source": [
    ""
   ]
  },
  {
   "cell_type": "code",
   "execution_count": null,
   "metadata": {},
   "outputs": [],
   "source": [
    "\n",
    "\n",
    "\n",
    "\n",
    "\n",
    "\n",
    "\n",
    "\n",
    "\n",
    "\n",
    "\n",
    "\n",
    "\n"
   ]
  }
 ],
 "metadata": {
  "kernelspec": {
   "display_name": "Python 3",
   "language": "python",
   "name": "python3"
  },
  "language_info": {
   "codemirror_mode": {
    "name": "ipython",
    "version": 3
   },
   "file_extension": ".py",
   "mimetype": "text/x-python",
   "name": "python",
   "nbconvert_exporter": "python",
   "pygments_lexer": "ipython3",
   "version": "3.6.3"
  }
 },
 "nbformat": 4,
 "nbformat_minor": 2
}
