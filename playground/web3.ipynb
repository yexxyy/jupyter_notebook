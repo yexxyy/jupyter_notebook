{
 "cells": [
  {
   "cell_type": "code",
   "execution_count": 2,
   "id": "fb963168",
   "metadata": {},
   "outputs": [
    {
     "name": "stdout",
     "output_type": "stream",
     "text": [
      "\n",
      "address1 = '0xAeBeF5a1E547c551a5EC0B8BCf374bF8994fD217'\n",
      "private1 = '0xb7345aff1ecaeabea1bfe81dc04bec93579008f12dcbdbf8503a93a641d14388'\n",
      "\n",
      "address2 = '0xA7654B450Fa1d5c04F96deAbb30CDF06422B2065'\n",
      "private2 = '0xe4979d7157d870653eb105930d3955ebe1476999e6ed94c359b5d6e4a670a78c'\n",
      "\n",
      "address3 = '0x25604427AeaFC242A08C5Bbc1817288B149b60B5'\n",
      "private3 = '0xa9a66037065e87bff906c631a100be5475c1e153273f9c2ce40a1f3e25bf9a6f'\n",
      "\n",
      "address4 = '0x812A93B5F257797c654F46dd13EBB976A1304C9E'\n",
      "private4 = '0xe40e90c3beb81a8ece6d984aa1bc35674cd56ba163e257fb7fd4910850d09d79'\n",
      "\n",
      "address5 = '0xB1faAF6f793992163D3190CE94CE6A07255c2A5c'\n",
      "private5 = '0xcead3824f90435873307ac83f4e9010224eaa413e82f35636e0c07b6cfd91996'\n",
      "\n",
      "address6 = '0x89B2E823Ada201Cc53a13dF40F9a9779a2412Dbd'\n",
      "private6 = '0xdf7be40af6cd285a7334b2336eda26d460347a3181cfcb36dac33f8ac4a8178d'\n",
      "\n",
      "address7 = '0x6128FBf01b2E3Bc3628d3a280Bf4e4B7F3995DC7'\n",
      "private7 = '0x4c5a9cce8b28acfd675903211823800117957bb2bf3d86220ffe3768efaf7e19'\n",
      "\n",
      "address8 = '0xb2694B49FD6Ef815427ac77cCdb6F3B97007e49E'\n",
      "private8 = '0x93349a36f117259056ac7353bac561a8b985abe5536a635f94a9b35684cc7631'\n",
      "\n",
      "address9 = '0xa7A2dF5B4E2817B56521e582fdbC2568140D141c'\n",
      "private9 = '0xcdf91bc44f9ab6fd8bbb8d4e7bb6400e5f6d3e890e93d5f127aced3f6148aef5'\n",
      "\n",
      "address10 = '0x5279Bf3caBCD74ee68a0aED7341C1c9857f85ab9'\n",
      "private10 = '0x79af76e61e00ada9e6f858ad3a6950de40716b04070bd1ae776d9e1b8f4baf53'\n"
     ]
    }
   ],
   "source": [
    "from web3 import Web3\n",
    "w3 = Web3()\n",
    "\n",
    "# test mnemonic from ganache (don't use it!)\n",
    "mnemonic = \"celery word curious summer diesel beauty giggle swear mesh word usual pen boss check liquid\"\n",
    "\n",
    "w3.eth.account.enable_unaudited_hdwallet_features()\n",
    "for i in range(10):\n",
    "    acc = w3.eth.account.from_mnemonic(mnemonic, account_path=f\"m/44'/60'/0'/0/{i}\")\n",
    "    print(f\"\\naddress{i + 1} = '{acc.address}'\")\n",
    "    print(f\"private{i + 1} = '{w3.to_hex(acc.key)}'\")"
   ]
  }
 ],
 "metadata": {
  "kernelspec": {
   "display_name": "Python 3 (ipykernel)",
   "language": "python",
   "name": "python3"
  },
  "language_info": {
   "codemirror_mode": {
    "name": "ipython",
    "version": 3
   },
   "file_extension": ".py",
   "mimetype": "text/x-python",
   "name": "python",
   "nbconvert_exporter": "python",
   "pygments_lexer": "ipython3",
   "version": "3.8.10"
  }
 },
 "nbformat": 4,
 "nbformat_minor": 5
}
