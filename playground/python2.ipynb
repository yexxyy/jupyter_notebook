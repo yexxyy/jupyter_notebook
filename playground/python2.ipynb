{
 "cells": [
  {
   "cell_type": "code",
   "execution_count": 7,
   "metadata": {
    "scrolled": false
   },
   "outputs": [
    {
     "data": {
      "text/plain": [
       "True"
      ]
     },
     "execution_count": 7,
     "metadata": {},
     "output_type": "execute_result"
    }
   ],
   "source": [
    "import re\n",
    "re.sub(r'(?:,|\\+)','','4343,433+')\n",
    "\n",
    "res=re.findall(r\"'(\\w+)'\",\"sddf ;'url'sad\")\n",
    "res[0]\n",
    "\n",
    "bool(re.search(r'\\d','dd1 f'))\n"
   ]
  },
  {
   "cell_type": "code",
   "execution_count": 2,
   "metadata": {},
   "outputs": [
    {
     "name": "stdout",
     "output_type": "stream",
     "text": [
      "('xander',) {'is_super': False}\n",
      "xander\n"
     ]
    }
   ],
   "source": [
    "# 装饰器\n",
    "\"\"\"\n",
    "装饰器本质上是一个 Python 函数或类，它可以让其他函数或类在不需要做任何代码修改的\n",
    "前提下增加额外功能，装饰器的返回值也是一个函数/类对象。它经常用于有切面需求的场景，\n",
    "比如：插入日志、性能测试、事务处理、缓存、权限校验等场景，装饰器是解决这类问题的\n",
    "绝佳设计。有了装饰器，我们就可以抽离出大量与函数功能本身无关的雷同代码到装饰器中\n",
    "并继续重用。概括的讲，装饰器的作用就是为已经存在的对象添加额外的功能。\n",
    "\"\"\"\n",
    "#装饰器不带参数\n",
    "from functools import wraps\n",
    "def log(func):\n",
    "    \n",
    "    # wraps需要把原始函数的__name__等属性复制到wrapper()函数中，\n",
    "    # 否则，有些依赖函数签名的代码执行就会出错。\n",
    "    @wraps(func)\n",
    "    def wrapper(*args, **kargs):\n",
    "        print(args,kargs)\n",
    "        return func(*args, **kargs)\n",
    "    return wrapper\n",
    "\n",
    "\n",
    "@log\n",
    "def now(name,is_super):\n",
    "    print(name)\n",
    "\n",
    "now('xander',is_super=False)"
   ]
  },
  {
   "cell_type": "code",
   "execution_count": 3,
   "metadata": {
    "scrolled": true
   },
   "outputs": [
    {
     "name": "stdout",
     "output_type": "stream",
     "text": [
      "('od',) {'action': 'execute'}\n",
      "('xander',) {'is_super': False}\n",
      "xander\n"
     ]
    }
   ],
   "source": [
    "#装饰器带参数\n",
    "def log(*a,**ka):\n",
    "    def decorator(func):\n",
    "        @wraps(func)\n",
    "        def wrapper(*args, **kargs):\n",
    "            print(a,ka)\n",
    "            print(args,kargs)\n",
    "            return func(*args, **kargs)\n",
    "        return wrapper\n",
    "    return decorator\n",
    "\n",
    "@log('od',action='execute')\n",
    "def now(name,is_super):\n",
    "    print(name)\n",
    "\n",
    "now('xander',is_super=False)"
   ]
  },
  {
   "cell_type": "code",
   "execution_count": 183,
   "metadata": {},
   "outputs": [],
   "source": [
    "import json\n",
    "\n",
    "#装饰器带参数\n",
    "def cache(seconds):\n",
    "    def decorator(func):\n",
    "        @wraps(func)\n",
    "        def wrapper(*args, **kargs):\n",
    "            args_str = ''.join([str(i) for i in args])\n",
    "            kargs_str = \",\".join([f\"{k}={v}\" for k, v in kargs.items()])\n",
    "            key = f'{func.__name__}_{args_str}_{kargs_str}'\n",
    "            res = REDIS_CLIENT.get(key)\n",
    "            if res:\n",
    "                return json.loads(res)\n",
    "            res = func(*args, **kargs)\n",
    "            data = json.dumps(res)\n",
    "            REDIS_CLIENT.set(key, data, seconds)\n",
    "            return res\n",
    "        return wrapper\n",
    "    return decorator\n",
    "\n",
    "class Test():\n",
    "    @cache(5)\n",
    "    def test(self, x):\n",
    "        return str(datetime.datetime.now()), True\n",
    "\n",
    "t = Test()"
   ]
  },
  {
   "cell_type": "code",
   "execution_count": 87,
   "metadata": {
    "scrolled": false
   },
   "outputs": [
    {
     "name": "stdout",
     "output_type": "stream",
     "text": [
      "('success',) {}\n"
     ]
    }
   ],
   "source": [
    "#class 装饰器\n",
    "class logit():\n",
    "    \n",
    "    def __call__(self,func):\n",
    "    \n",
    "        @wraps(func)\n",
    "        def wrapper(*args,**kargs):\n",
    "            print(args,kargs)\n",
    "            return func(*args,**kargs)\n",
    "        return wrapper\n",
    "    \n",
    "@logit()    \n",
    "def test(status):\n",
    "    pass\n",
    "    \n",
    "test('success')"
   ]
  },
  {
   "cell_type": "code",
   "execution_count": 27,
   "metadata": {},
   "outputs": [
    {
     "name": "stdout",
     "output_type": "stream",
     "text": [
      "logit params ('abc',) {'is_super': True}\n",
      "func params ('efg',) {'path': 'a/b/c'}\n",
      "test ('efg',) {'path': 'a/b/c'}\n"
     ]
    }
   ],
   "source": [
    "# class 装饰器传参数\n",
    "from functools import wraps\n",
    "\n",
    "class Logit():\n",
    "    def __init__(self,*a,**ka):\n",
    "        self.a=a\n",
    "        self.ka=ka\n",
    "    \n",
    "    def __call__(self,func):\n",
    "        @wraps(func)\n",
    "        def wrapper(*args,**kargs):\n",
    "            print('logit params',self.a,self.ka)\n",
    "            print('func params',args,kargs)\n",
    "            return func(*args,**kargs)\n",
    "        return wrapper\n",
    "\n",
    "@Logit('abc',is_super=True)  \n",
    "def test(*args,**kargs):\n",
    "    print('test',args,kargs)\n",
    "\n",
    "test('efg',path='a/b/c')"
   ]
  },
  {
   "cell_type": "code",
   "execution_count": null,
   "metadata": {},
   "outputs": [],
   "source": [
    "class Test():\n",
    "    cache_data = {}\n",
    "\n",
    "    def cache_property(func):\n",
    "        @wraps(func)\n",
    "        def wrapper(*args, **kargs):\n",
    "            self = args[0]\n",
    "            if func.__name__ not in self.cache_data:\n",
    "                self.cache_data[func.__name__] = func(*args, **kargs)\n",
    "            return self.cache_data[func.__name__]\n",
    "\n",
    "        return wrapper\n",
    "\n",
    "    @property\n",
    "    @cache_property\n",
    "    def info(self):\n",
    "        print('info func')\n",
    "        return 'a'"
   ]
  },
  {
   "cell_type": "code",
   "execution_count": 89,
   "metadata": {},
   "outputs": [
    {
     "data": {
      "text/plain": [
       "['abcdsf']"
      ]
     },
     "execution_count": 89,
     "metadata": {},
     "output_type": "execute_result"
    }
   ],
   "source": [
    "f=filter(lambda x:x.startswith('abc'),['abcdsf','did'])\n",
    "list(f)"
   ]
  },
  {
   "cell_type": "code",
   "execution_count": 28,
   "metadata": {},
   "outputs": [
    {
     "data": {
      "text/plain": [
       "{1, 2, 6}"
      ]
     },
     "execution_count": 28,
     "metadata": {},
     "output_type": "execute_result"
    }
   ],
   "source": [
    "a={1,2,4,5}\n",
    "b={4,5,6}\n",
    "a.symmetric_difference(b)"
   ]
  },
  {
   "cell_type": "code",
   "execution_count": 30,
   "metadata": {},
   "outputs": [
    {
     "name": "stdout",
     "output_type": "stream",
     "text": [
      "3\n"
     ]
    }
   ],
   "source": [
    "exec('print(1+2)')"
   ]
  },
  {
   "cell_type": "code",
   "execution_count": 43,
   "metadata": {},
   "outputs": [
    {
     "data": {
      "text/plain": [
       "(<__main__.SingleObject at 0x107fe2ba8>,\n",
       " <__main__.SingleObject at 0x107fe2ba8>)"
      ]
     },
     "execution_count": 43,
     "metadata": {},
     "output_type": "execute_result"
    }
   ],
   "source": [
    "# 线程安全的单例\n",
    "import threading\n",
    "\n",
    "def lock_new(func):\n",
    "    func.lock = threading.Lock()\n",
    "    def wrapper(*args,**kargs):\n",
    "        with func.lock:\n",
    "            return func(*args,**kargs)\n",
    "        return wrapper\n",
    "    \n",
    "class SingleObject():\n",
    "    obj = None\n",
    "    def __new__(cls,*args,**kargs):\n",
    "        if cls.obj is None:\n",
    "            cls.obj = super(SingleObject,cls).__new__(cls,*args,**kargs)\n",
    "        return cls.obj\n",
    "\n",
    "SingleObject(),SingleObject()"
   ]
  },
  {
   "cell_type": "code",
   "execution_count": 47,
   "metadata": {},
   "outputs": [
    {
     "data": {
      "text/plain": [
       "([1, 3, 4, 56], [4, 56, [7, 8, 9]])"
      ]
     },
     "execution_count": 47,
     "metadata": {},
     "output_type": "execute_result"
    }
   ],
   "source": [
    "a=[1,3]\n",
    "b=[4,56]\n",
    "c=[7,8,9]\n",
    "a.extend(b)\n",
    "b.append(c)\n",
    "a,b"
   ]
  },
  {
   "cell_type": "code",
   "execution_count": 56,
   "metadata": {},
   "outputs": [
    {
     "data": {
      "text/plain": [
       "[0, 10]"
      ]
     },
     "execution_count": 56,
     "metadata": {},
     "output_type": "execute_result"
    }
   ],
   "source": [
    "#切片操作： a[stat:end:step]\n",
    "a=[1,3,7,5,0,8]\n",
    "a[::]#[1, 3, 7, 5, 0, 8]\n",
    "a[::-1]#[8, 0, 5, 7, 3, 1]\n",
    "a[::2]#[1, 7, 0]\n",
    "a[len(a)::]=[10]#[1, 3, 7, 5, 0, 8, 10]\n",
    "a[2:2]=[99]#[1, 3, 99, 7, 5, 0, 8, 10]\n",
    "a[::2]=[0]*4#[0, 3, 0, 7, 0, 0, 0, 10]\n",
    "a[:3]=[]#[7, 0, 0, 0, 10]\n",
    "del a[:3]#[0, 10]\n",
    "a"
   ]
  },
  {
   "cell_type": "code",
   "execution_count": 11,
   "metadata": {},
   "outputs": [
    {
     "data": {
      "text/plain": [
       "<_sre.SRE_Match object; span=(0, 8), match='qwerasd3'>"
      ]
     },
     "execution_count": 11,
     "metadata": {},
     "output_type": "execute_result"
    }
   ],
   "source": [
    "import re\n",
    "re_compile=re.compile(r'^(?![0-9]+$)(?![a-zA-Z]+$)[0-9A-Za-z!@#$%^&*()-=_+|\\\\\\{\\}\\[\\];\\':\\\",\\.<>\\?]{8,20}$',re.VERBOSE )\n",
    "# re_compile=re.compile(r'(^.{8,20}$)(?=[a-z]+).*$',re.VERBOSE)\n",
    "# re_compile=re.compile(r'(?=^.{8,20}$)((?=.*\\d+))(?![.\\n])(?=.*[A-Z])(?=.*[a-z]).*$')\n",
    "re_compile.match('qwerasd3')"
   ]
  },
  {
   "cell_type": "code",
   "execution_count": 12,
   "metadata": {
    "scrolled": true
   },
   "outputs": [
    {
     "data": {
      "text/plain": [
       "True"
      ]
     },
     "execution_count": 12,
     "metadata": {},
     "output_type": "execute_result"
    }
   ],
   "source": [
    "#正则\n",
    "def check_password(password):\n",
    "#     passwordReg = re.compile(r'(?=^.{8,20}$)((?=.*\\d+))(?=.*[a-zA-Z]).*$', re.VERBOSE)\n",
    "#     passwordReg = re.compile(r'(?=^.{8,20}$)((?=.*\\d+))(?=.*[\\!@#\\$%^&\\*()_\\-\\+\\=`~|\\[\\]\\{\\};:,.\\?/]).*$', re.VERBOSE)\n",
    "#     passwordReg = re.compile(r'(?=^.{8,20}$)(?=.*[a-zA-Z])(?=.*[\\!@#\\$%^&\\*()_\\-\\+\\=`~|\\[\\]\\{\\};:,.\\?/]).*$', re.VERBOSE)\n",
    "    re_compile = re.compile(\n",
    "    r\"\"\"\n",
    "    (?=^.{8,20}$)(\n",
    "        ((?=.*\\d+))(?=.*[a-zA-Z]) |\n",
    "        ((?=.*\\d+))(?=.*[\\!@#\\$%^&\\*()_\\-\\+\\=`~|\\[\\]\\{\\};:,.\\?/]) |\n",
    "        (?=.*[a-zA-Z])(?=.*[\\!@#\\$%^&\\*()_\\-\\+\\=`~|\\[\\]\\{\\};:,.\\?/])\n",
    "    ).*$\n",
    "    \"\"\", re.VERBOSE\n",
    ")\n",
    "    match = re_compile.match(password)\n",
    "    return match is not None\n",
    "check_password(\"234#1234\")"
   ]
  },
  {
   "cell_type": "code",
   "execution_count": 6,
   "metadata": {},
   "outputs": [],
   "source": [
    "#整理歌曲文件夹\n",
    "import os\n",
    "path = '/Users/yetongxue/Downloads'\n",
    "sub_dirs = [(x[0],x[2]) for x in os.walk(path, topdown=False)]\n",
    "for file in sub_dirs[1:]:\n",
    "    base_dir = file[0]\n",
    "    for f in file[1]:\n",
    "        origin = os.path.join(base_dir, f)\n",
    "        new = os.path.join(path, f)\n",
    "        os.rename(origin, new)"
   ]
  },
  {
   "cell_type": "code",
   "execution_count": 10,
   "metadata": {
    "scrolled": true
   },
   "outputs": [
    {
     "name": "stdout",
     "output_type": "stream",
     "text": [
      "action\n",
      "1\n",
      "('log_p',) {}\n",
      "ok\n"
     ]
    }
   ],
   "source": [
    "from functools import wraps\n",
    "\n",
    "def log(func):\n",
    "    \n",
    "    @wraps(func)\n",
    "    def wrapper(*args, **kargs):\n",
    "        print('action')\n",
    "        return func(*args, **kargs)\n",
    "    return wrapper\n",
    "\n",
    "\n",
    "@log\n",
    "def test(a):\n",
    "    print(a)\n",
    "\n",
    "test('1')\n",
    "\n",
    "def log(*a, **ka):\n",
    "    def deractor(func):\n",
    "        print(a, ka)\n",
    "        \n",
    "        @wraps(func)\n",
    "        def wrapper(*args, **kargs):\n",
    "            return func(*args, **kargs)\n",
    "        return wrapper\n",
    "    return deractor\n",
    "\n",
    "@log('log_p')\n",
    "def test2(a):\n",
    "    print(a)\n",
    "    \n",
    "test2('ok')"
   ]
  }
 ],
 "metadata": {
  "kernelspec": {
   "display_name": "Python 3 (ipykernel)",
   "language": "python",
   "name": "python3"
  },
  "language_info": {
   "codemirror_mode": {
    "name": "ipython",
    "version": 3
   },
   "file_extension": ".py",
   "mimetype": "text/x-python",
   "name": "python",
   "nbconvert_exporter": "python",
   "pygments_lexer": "ipython3",
   "version": "3.8.10"
  }
 },
 "nbformat": 4,
 "nbformat_minor": 1
}
