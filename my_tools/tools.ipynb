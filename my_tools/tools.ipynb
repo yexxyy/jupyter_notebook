{
 "cells": [
  {
   "cell_type": "code",
   "execution_count": 3,
   "metadata": {},
   "outputs": [],
   "source": [
    "import matplotlib.pyplot as plt\n",
    "import numpy as np\n",
    "import cv2\n",
    "\n",
    "\n",
    "def show_bgr(*images,cols=None):\n",
    "    \n",
    "    if cols==None:\n",
    "        cols=len(images)\n",
    "    rows=np.ceil(len(images)/cols)\n",
    "    \n",
    "    base_size=5\n",
    "    plt.figure(figsize=[base_size*cols,base_size*2])\n",
    "    for i,image in enumerate(images):\n",
    "        plt.subplot(rows,cols,i+1)\n",
    "        if len(image.shape)==3:\n",
    "            image=image[:,:,::-1]\n",
    "        plt.imshow(image,cmap='gray')\n",
    "    plt.show()\n",
    "    \n",
    "    \n",
    "    \n",
    "def scale(arr,scale=1):\n",
    "    \"\"\"归一化矩阵数值到0-255之间\"\"\"\n",
    "    arr_max,arr_min=arr.max(),arr.min()\n",
    "    tmp=(arr-arr_min)/(arr_max-arr_min)\n",
    "    if scale==255:\n",
    "        tmp=tmp*255\n",
    "        tmp.astype(int)\n",
    "    return tmp"
   ]
  }
 ],
 "metadata": {
  "kernelspec": {
   "display_name": "Python 3",
   "language": "python",
   "name": "python3"
  },
  "language_info": {
   "codemirror_mode": {
    "name": "ipython",
    "version": 3
   },
   "file_extension": ".py",
   "mimetype": "text/x-python",
   "name": "python",
   "nbconvert_exporter": "python",
   "pygments_lexer": "ipython3",
   "version": "3.6.1"
  }
 },
 "nbformat": 4,
 "nbformat_minor": 2
}
