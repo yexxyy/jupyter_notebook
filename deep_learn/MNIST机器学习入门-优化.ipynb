{
 "cells": [
  {
   "cell_type": "code",
   "execution_count": 158,
   "metadata": {},
   "outputs": [
    {
     "name": "stdout",
     "output_type": "stream",
     "text": [
      "Extracting MNIST_data/train-images-idx3-ubyte.gz\n",
      "Extracting MNIST_data/train-labels-idx1-ubyte.gz\n",
      "Extracting MNIST_data/t10k-images-idx3-ubyte.gz\n",
      "Extracting MNIST_data/t10k-labels-idx1-ubyte.gz\n"
     ]
    },
    {
     "data": {
      "text/plain": [
       "Datasets(train=<tensorflow.contrib.learn.python.learn.datasets.mnist.DataSet object at 0x1f2bad048>, validation=<tensorflow.contrib.learn.python.learn.datasets.mnist.DataSet object at 0x12b730710>, test=<tensorflow.contrib.learn.python.learn.datasets.mnist.DataSet object at 0x1cd7d0588>)"
      ]
     },
     "execution_count": 158,
     "metadata": {},
     "output_type": "execute_result"
    }
   ],
   "source": [
    "#http://www.tensorfly.cn/tfdoc/tutorials/mnist_beginners.html\n",
    "import tensorflow as tf\n",
    "from tensorflow.examples.tutorials.mnist import input_data\n",
    "\n",
    "mnist = input_data.read_data_sets(\"MNIST_data/\", one_hot=True)\n",
    "mnist"
   ]
  },
  {
   "cell_type": "code",
   "execution_count": 159,
   "metadata": {},
   "outputs": [],
   "source": [
    "#设置变量\n",
    "x=tf.placeholder(tf.float32,[None,784])\n",
    "y=tf.placeholder(tf.float32,[None,10])\n",
    "#dropout比例\n",
    "keep_prob=tf.placeholder(tf.float32)\n",
    "#增加学习率变量，训练过程中改变它\n",
    "LEARN_RATE=1e-3\n",
    "learn_rate=tf.Variable(LEARN_RATE,dtype=tf.float32)\n",
    "\n",
    "Weights_L1=tf.Variable(tf.truncated_normal([784,500],stddev=0.1))\n",
    "biases_L1=tf.Variable(tf.zeros([500])+0.1)\n",
    "L1=tf.nn.tanh(tf.matmul(x,Weights_L1)+biases_L1)\n",
    "L1_drop=tf.nn.dropout(L1,keep_prob)\n",
    "\n",
    "Weights_L2=tf.Variable(tf.truncated_normal([500,500],stddev=0.1))\n",
    "biases_L2=tf.Variable(tf.zeros([500])+0.1)\n",
    "L2=tf.nn.tanh(tf.matmul(L1_drop,Weights_L2)+biases_L2)\n",
    "L2_drop=tf.nn.dropout(L2,keep_prob)\n",
    "\n",
    "Weights_L3=tf.Variable(tf.truncated_normal([500,200],stddev=0.1))\n",
    "biases_L3=tf.Variable(tf.zeros([200])+0.1)\n",
    "L3=tf.nn.tanh(tf.matmul(L2_drop,Weights_L3)+biases_L3)\n",
    "L3_drop=tf.nn.dropout(L3,keep_prob)\n",
    "\n",
    "Weights_L4=tf.Variable(tf.truncated_normal([200,10],stddev=0.1))\n",
    "biases_L4=tf.Variable(tf.zeros([10])+0.1)"
   ]
  },
  {
   "cell_type": "code",
   "execution_count": 160,
   "metadata": {},
   "outputs": [],
   "source": [
    "#构造模型\n",
    "prediction=tf.nn.softmax(tf.matmul(L3_drop,Weights_L4)+biases_L4)\n",
    "\n",
    "#loss\n",
    "# loss=tf.square(prediction-y)\n",
    "# loss=tf.reduce_mean(tf.square(prediction-y))\n",
    "loss=tf.nn.softmax_cross_entropy_with_logits_v2(labels=y,logits=prediction)\n",
    "# loss=tf.reduce_mean(tf.nn.softmax_cross_entropy_with_logits_v2(labels=y,logits=prediction))\n",
    "\n",
    "train_step=tf.train.AdamOptimizer(learning_rate=learn_rate).minimize(loss)"
   ]
  },
  {
   "cell_type": "code",
   "execution_count": 161,
   "metadata": {},
   "outputs": [],
   "source": [
    "#评估\n",
    "#correct_prediction是一个bool list\n",
    "correct_prediction=tf.equal(tf.argmax(y,1),tf.argmax(prediction,1))\n",
    "#准确率\n",
    "\"\"\"\n",
    "tf.cast:转化类型 True->1.0;False->0.0\n",
    "tf.reduce_mean:求平均值，即准确率\n",
    "\"\"\"\n",
    "accuracy=tf.reduce_mean(tf.cast(correct_prediction,tf.float32))"
   ]
  },
  {
   "cell_type": "code",
   "execution_count": 162,
   "metadata": {},
   "outputs": [],
   "source": [
    "sess=tf.Session()\n",
    "sess.run(tf.global_variables_initializer())"
   ]
  },
  {
   "cell_type": "code",
   "execution_count": 163,
   "metadata": {},
   "outputs": [
    {
     "name": "stdout",
     "output_type": "stream",
     "text": [
      "test_data:0.2355,train_data:0.234655\n",
      "test_data:0.9319,train_data:0.932564\n",
      "test_data:0.951,train_data:0.952782\n",
      "test_data:0.9583,train_data:0.960436\n",
      "test_data:0.9598,train_data:0.965636\n",
      "test_data:0.9631,train_data:0.968782\n",
      "test_data:0.9637,train_data:0.971491\n",
      "test_data:0.9636,train_data:0.970982\n",
      "test_data:0.9635,train_data:0.9722\n",
      "test_data:0.9697,train_data:0.9778\n",
      "test_data:0.9688,train_data:0.979545\n",
      "test_data:0.9673,train_data:0.978673\n",
      "test_data:0.9724,train_data:0.982382\n",
      "test_data:0.9736,train_data:0.9816\n",
      "test_data:0.9728,train_data:0.9828\n"
     ]
    }
   ],
   "source": [
    "#训练\n",
    "drop_ratio=1\n",
    "for i in range(3000):\n",
    "    batch_xs, batch_ys = mnist.train.next_batch(100)\n",
    "    sess.run(train_step, feed_dict={x: batch_xs, y: batch_ys,keep_prob:drop_ratio})\n",
    "    if i%200==0:\n",
    "        sess.run(tf.assign(learn_rate,LEARN_RATE*(0.95**(i/200))))\n",
    "        test_accuracy=sess.run(accuracy,feed_dict={x:mnist.test.images,y:mnist.test.labels,keep_prob:1.0})\n",
    "        train_accuracy=sess.run(accuracy,feed_dict={x:mnist.train.images,y:mnist.train.labels,keep_prob:1.0})\n",
    "        print('test_data:'+str(test_accuracy)+\",train_data:\"+str(train_accuracy))"
   ]
  },
  {
   "cell_type": "raw",
   "metadata": {},
   "source": [
    "# 不同keep_prob对应的训练效果\n",
    "\n",
    "#### keep_prob:1.0\n",
    "test_data:0.1223,train_data:0.119382\n",
    "test_data:0.8396,train_data:0.831055\n",
    "test_data:0.8864,train_data:0.880891\n",
    "test_data:0.9054,train_data:0.901564\n",
    "test_data:0.9135,train_data:0.913345\n",
    "test_data:0.9208,train_data:0.923309\n",
    "test_data:0.9267,train_data:0.929982\n",
    "test_data:0.9317,train_data:0.935455\n",
    "test_data:0.9361,train_data:0.9404\n",
    "test_data:0.9402,train_data:0.9448\n",
    "***\n",
    "#### keep_prob:0.7\n",
    "test_data:0.1517,train_data:0.144964\n",
    "test_data:0.7267,train_data:0.720655\n",
    "test_data:0.8202,train_data:0.811418\n",
    "test_data:0.8523,train_data:0.842945\n",
    "test_data:0.8752,train_data:0.868145\n",
    "test_data:0.8847,train_data:0.879182\n",
    "test_data:0.8886,train_data:0.883618\n",
    "test_data:0.8953,train_data:0.8912\n",
    "test_data:0.9024,train_data:0.894855\n",
    "test_data:0.9036,train_data:0.8992\n",
    "\n",
    "keep_prob为1时，对训练数据的表现更好；为0.7则是测试数据；\n",
    "另外，keep_prob越小，训练越缓慢。"
   ]
  }
 ],
 "metadata": {
  "kernelspec": {
   "display_name": "Python 3",
   "language": "python",
   "name": "python3"
  },
  "language_info": {
   "codemirror_mode": {
    "name": "ipython",
    "version": 3
   },
   "file_extension": ".py",
   "mimetype": "text/x-python",
   "name": "python",
   "nbconvert_exporter": "python",
   "pygments_lexer": "ipython3",
   "version": "3.6.8"
  }
 },
 "nbformat": 4,
 "nbformat_minor": 2
}
