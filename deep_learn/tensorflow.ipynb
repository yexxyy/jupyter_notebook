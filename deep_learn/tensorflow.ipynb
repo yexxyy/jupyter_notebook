{
 "cells": [
  {
   "cell_type": "code",
   "execution_count": 25,
   "metadata": {},
   "outputs": [],
   "source": [
    "import tensorflow as tf\n",
    "import numpy as np\n",
    "\n",
    "#tf.placeholder\n",
    "x=tf.placeholder(tf.float32,shape=(None,784))\n",
    "W=tf.placeholder(tf.float32,shape=(784,10))\n",
    "y=tf.matmul(x,W)"
   ]
  },
  {
   "cell_type": "code",
   "execution_count": 26,
   "metadata": {},
   "outputs": [
    {
     "name": "stdout",
     "output_type": "stream",
     "text": [
      "[[ 195.53392029  189.77926636  194.62741089  202.14468384  189.58084106\n",
      "   199.58322144  195.20481873  190.6022644   194.05389404  193.91743469]\n",
      " [ 196.18235779  192.5553894   197.35043335  196.70593262  190.71998596\n",
      "   199.52102661  191.37109375  194.67582703  194.85449219  198.79170227]\n",
      " [ 195.0617981   183.27845764  195.37431335  198.37734985  186.20944214\n",
      "   193.1784668   192.26022339  184.29029846  187.97254944  195.79733276]\n",
      " [ 194.3704834   196.11782837  195.33155823  197.71351624  193.21069336\n",
      "   196.8727417   197.33491516  189.48248291  194.25762939  195.85548401]\n",
      " [ 197.8578186   193.58325195  198.62527466  202.52989197  193.59815979\n",
      "   194.77435303  199.65112305  191.87380981  194.06900024  196.26556396]]\n"
     ]
    }
   ],
   "source": [
    "xs=np.random.rand(5,784)\n",
    "Ws=np.random.rand(784,10)\n",
    "\n",
    "with tf.Session() as sess:\n",
    "    print(sess.run(y,feed_dict={\n",
    "        x:xs,\n",
    "        W:Ws\n",
    "    }))  "
   ]
  },
  {
   "cell_type": "code",
   "execution_count": 7,
   "metadata": {},
   "outputs": [
    {
     "name": "stdout",
     "output_type": "stream",
     "text": [
      "[[18]]\n"
     ]
    }
   ],
   "source": [
    "#创建变量\n",
    "m1=tf.constant([[3,3]])\n",
    "m2=tf.constant([[2],[4]])\n",
    "#创建矩阵乘法18\n",
    "product=tf.matmul(m1,m2)\n",
    "#定义会话\n",
    "sess=tf.Session()\n",
    "\n",
    "print(sess.run(product))\n",
    "sess.close()"
   ]
  },
  {
   "cell_type": "code",
   "execution_count": 9,
   "metadata": {},
   "outputs": [
    {
     "data": {
      "text/plain": [
       "array([[18]], dtype=int32)"
      ]
     },
     "execution_count": 9,
     "metadata": {},
     "output_type": "execute_result"
    }
   ],
   "source": [
    "#另一种写法\n",
    "with tf.Session() as sess:\n",
    "    result=sess.run(product)\n",
    "result"
   ]
  },
  {
   "cell_type": "code",
   "execution_count": 12,
   "metadata": {},
   "outputs": [
    {
     "data": {
      "text/plain": [
       "array([-1,  1], dtype=int32)"
      ]
     },
     "execution_count": 12,
     "metadata": {},
     "output_type": "execute_result"
    }
   ],
   "source": [
    "#变量的使用\n",
    "x=tf.Variable([1,2])\n",
    "a=tf.constant([3,3])\n",
    "\n",
    "sub=tf.subtract(x,a)\n",
    "add=tf.add(x,sub)\n",
    "\n",
    "#变量需要初始化\n",
    "init=tf.global_variables_initializer()\n",
    "\n",
    "with tf.Session() as sess:\n",
    "    sess.run(init)\n",
    "    res=sess.run(add)\n",
    "res"
   ]
  },
  {
   "cell_type": "code",
   "execution_count": 13,
   "metadata": {},
   "outputs": [
    {
     "name": "stdout",
     "output_type": "stream",
     "text": [
      "1\n",
      "2\n",
      "3\n",
      "4\n",
      "5\n"
     ]
    }
   ],
   "source": [
    "state=tf.Variable(0,name='counter')\n",
    "new_value=tf.add(state,1)\n",
    "#赋值操作\n",
    "update=tf.assign(state,new_value)\n",
    "\n",
    "init=tf.global_variables_initializer()\n",
    "with tf.Session() as sess:\n",
    "    sess.run(init)\n",
    "    for _ in range(5):\n",
    "        res=sess.run(update)\n",
    "        print(res)"
   ]
  },
  {
   "cell_type": "markdown",
   "metadata": {},
   "source": [
    " ### Fetch and Feed"
   ]
  },
  {
   "cell_type": "code",
   "execution_count": 15,
   "metadata": {},
   "outputs": [
    {
     "data": {
      "text/plain": [
       "[21.0, 7.0]"
      ]
     },
     "execution_count": 15,
     "metadata": {},
     "output_type": "execute_result"
    }
   ],
   "source": [
    "#Fetch\n",
    "input1=tf.constant(3.0)\n",
    "input2=tf.constant(2.0)\n",
    "input3 =tf.constant(5.0)\n",
    "\n",
    "add=tf.add(input2,input3)\n",
    "mul=tf.multiply(input1,add)\n",
    "\n",
    "with tf.Session() as sess:\n",
    "    res=sess.run([mul,add])\n",
    "res\n"
   ]
  },
  {
   "cell_type": "code",
   "execution_count": 27,
   "metadata": {},
   "outputs": [
    {
     "data": {
      "text/plain": [
       "array([ 14.], dtype=float32)"
      ]
     },
     "execution_count": 27,
     "metadata": {},
     "output_type": "execute_result"
    }
   ],
   "source": [
    "#Feed\n",
    "input1=tf.placeholder(tf.float32)\n",
    "input2=tf.placeholder(tf.float32)\n",
    "\n",
    "output=tf.multiply(input1,input2)\n",
    "\n",
    "with tf.Session() as sess:\n",
    "    res=sess.run(output,feed_dict={input1:[7.],input2:[2.0]})\n",
    "res"
   ]
  },
  {
   "cell_type": "markdown",
   "metadata": {},
   "source": [
    "### 简单示例"
   ]
  },
  {
   "cell_type": "code",
   "execution_count": 43,
   "metadata": {
    "scrolled": true
   },
   "outputs": [
    {
     "name": "stdout",
     "output_type": "stream",
     "text": [
      "0 [0.049370527, 0.098643027]\n",
      "20 [0.10004677, 0.19997644]\n",
      "40 [0.10002679, 0.19998659]\n",
      "60 [0.10001533, 0.19999233]\n",
      "80 [0.10000879, 0.19999559]\n",
      "100 [0.10000504, 0.19999748]\n",
      "120 [0.10000289, 0.19999856]\n",
      "140 [0.10000166, 0.19999917]\n",
      "160 [0.10000097, 0.19999951]\n",
      "180 [0.10000056, 0.19999972]\n"
     ]
    }
   ],
   "source": [
    "x_data=np.random.rand(100)\n",
    "y_data=x_data*0.1+0.2\n",
    "\n",
    "#构造线性模型\n",
    "b=tf.Variable(0.)\n",
    "k=tf.Variable(0.)\n",
    "y=k*x_data+b\n",
    "\n",
    "#代价函数\n",
    "loss=tf.reduce_mean(tf.square(y_data-y))\n",
    "#定义优化器\n",
    "optimizer=tf.train.GradientDescentOptimizer(0.2)\n",
    "#最小化代价函数\n",
    "train=optimizer.minimize(loss)\n",
    "\n",
    "init=tf.global_variables_initializer()\n",
    "with tf.Session() as sess:\n",
    "    sess.run(init)\n",
    "    for step in range(200):\n",
    "        sess.run(train)\n",
    "        if step%20==0:\n",
    "            print(step,sess.run([k,b]))\n",
    "        "
   ]
  },
  {
   "cell_type": "markdown",
   "metadata": {},
   "source": [
    "### 拟合二次函数"
   ]
  },
  {
   "cell_type": "code",
   "execution_count": 79,
   "metadata": {},
   "outputs": [
    {
     "data": {
      "text/plain": [
       "((200, 1), (200, 1))"
      ]
     },
     "execution_count": 79,
     "metadata": {},
     "output_type": "execute_result"
    }
   ],
   "source": [
    "import matplotlib.pyplot as plt\n",
    "\n",
    "#从-0.5，0.5中生成均匀分布的200个点\n",
    "x_data=np.linspace(-0.5,0.5,200)[:,np.newaxis]\n",
    "\n",
    "noise=np.random.normal(0.,0.02,x_data.shape)\n",
    "y_data=np.square(x_data)+noise\n",
    "\n",
    "x_data.shape,y_data.shape"
   ]
  },
  {
   "cell_type": "code",
   "execution_count": 80,
   "metadata": {
    "scrolled": false
   },
   "outputs": [
    {
     "data": {
      "image/png": "[encoded data removed]",
      "text/plain": [
       "<matplotlib.figure.Figure at 0x126096208>"
      ]
     },
     "metadata": {},
     "output_type": "display_data"
    }
   ],
   "source": [
    "x=tf.placeholder(tf.float32,[None,1])\n",
    "y=tf.placeholder(tf.float32,[None,1])\n",
    "\n",
    "#定义神经网络中间层\n",
    "Weights_L1=tf.Variable(tf.random_normal([1,10]))\n",
    "biases_L1=tf.Variable(tf.zeros([1,10]))\n",
    "Wx_plus_b_L1=tf.matmul(x,Weights_L1)+biases_L1\n",
    "#激活函数\n",
    "L1=tf.nn.tanh(Wx_plus_b_L1)\n",
    "\n",
    "#输出层\n",
    "Weights_L2=tf.Variable(tf.random_normal([10,1]))\n",
    "biases_L2=tf.Variable(tf.zeros([1,1]))\n",
    "Wx_plus_b_L2=tf.matmul(L1,Weights_L2)+biases_L2\n",
    "prediction=tf.nn.tanh(Wx_plus_b_L2)\n",
    "\n",
    "#代价函数及训练\n",
    "loss=tf.reduce_mean(tf.square(y-prediction))\n",
    "train_step=tf.train.GradientDescentOptimizer(0.1).minimize(loss)\n",
    "\n",
    "with tf.Session() as sess:\n",
    "    sess.run(tf.global_variables_initializer())\n",
    "    for _ in range(2000):\n",
    "        sess.run(train_step,feed_dict={x:x_data,y:y_data})\n",
    "        \n",
    "    prediction_value=sess.run(prediction,feed_dict={x:x_data})\n",
    "    \n",
    "    #绘制样本\n",
    "    plt.figure()\n",
    "    plt.scatter(x_data,y_data)\n",
    "    #绘制模型\n",
    "    plt.plot(x_data,prediction_value,'r-',lw=5)\n",
    "    plt.show()\n",
    "        "
   ]
  },
  {
   "cell_type": "code",
   "execution_count": 1,
   "metadata": {},
   "outputs": [
    {
     "name": "stdout",
     "output_type": "stream",
     "text": [
      "1.8.0\n"
     ]
    }
   ],
   "source": [
    "import tensorflow as tf\n",
    "print(tf.__version__)"
   ]
  },
  {
   "cell_type": "code",
   "execution_count": 33,
   "metadata": {},
   "outputs": [
    {
     "data": {
      "text/plain": [
       "array([[[ 0,  1,  2],\n",
       "        [ 3,  4,  5]],\n",
       "\n",
       "       [[ 6,  7,  8],\n",
       "        [ 9, 10, 11]],\n",
       "\n",
       "       [[12, 13, 14],\n",
       "        [15, 16, 17]],\n",
       "\n",
       "       [[18, 19, 20],\n",
       "        [21, 22, 23]],\n",
       "\n",
       "       [[24, 25, 26],\n",
       "        [27, 28, 29]],\n",
       "\n",
       "       [[30, 31, 32],\n",
       "        [33, 34, 35]]])"
      ]
     },
     "execution_count": 33,
     "metadata": {},
     "output_type": "execute_result"
    }
   ],
   "source": [
    "import numpy as np\n",
    "\n",
    "a=np.reshape(range(36),(6,2,3))\n",
    "a"
   ]
  },
  {
   "cell_type": "code",
   "execution_count": 46,
   "metadata": {
    "scrolled": true
   },
   "outputs": [
    {
     "data": {
      "text/plain": [
       "[array([[[ 0,  1,  2],\n",
       "         [ 3,  4,  5]],\n",
       " \n",
       "        [[ 6,  7,  8],\n",
       "         [ 9, 10, 11]],\n",
       " \n",
       "        [[12, 13, 14],\n",
       "         [15, 16, 17]],\n",
       " \n",
       "        [[18, 19, 20],\n",
       "         [21, 22, 23]],\n",
       " \n",
       "        [[24, 25, 26],\n",
       "         [27, 28, 29]],\n",
       " \n",
       "        [[30, 31, 32],\n",
       "         [33, 34, 35]]])]"
      ]
     },
     "execution_count": 46,
     "metadata": {},
     "output_type": "execute_result"
    }
   ],
   "source": [
    "res=tf.split(a,num_or_size_splits=3,axis=0)\n",
    "with tf.Session() as sess:\n",
    "    _= sess.run(res)\n",
    "\n",
    "np.split(a,indices_or_sections=1,axis=2)"
   ]
  },
  {
   "cell_type": "code",
   "execution_count": 51,
   "metadata": {},
   "outputs": [
    {
     "data": {
      "text/plain": [
       "(<tf.Tensor 'moments_3/Squeeze:0' shape=(64,) dtype=float32>,\n",
       " <tf.Tensor 'moments_3/Squeeze_1:0' shape=(64,) dtype=float32>)"
      ]
     },
     "execution_count": 51,
     "metadata": {},
     "output_type": "execute_result"
    }
   ],
   "source": [
    "#https://www.jianshu.com/p/0312e04e4e83\n",
    "import tensorflow as tf\n",
    "\n",
    "img = tf.Variable(tf.random_normal([128, 32, 32, 64]))\n",
    "axis = list(range(len(img.get_shape()) - 1))\n",
    "mean, variance = tf.nn.moments(img, axis)\n",
    "\n",
    "#均值／方差\n",
    "mean,variance"
   ]
  }
 ],
 "metadata": {
  "kernelspec": {
   "display_name": "Python 3",
   "language": "python",
   "name": "python3"
  },
  "language_info": {
   "codemirror_mode": {
    "name": "ipython",
    "version": 3
   },
   "file_extension": ".py",
   "mimetype": "text/x-python",
   "name": "python",
   "nbconvert_exporter": "python",
   "pygments_lexer": "ipython3",
   "version": "3.6.1"
  }
 },
 "nbformat": 4,
 "nbformat_minor": 2
}
