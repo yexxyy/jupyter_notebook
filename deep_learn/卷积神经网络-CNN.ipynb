{
 "cells": [
  {
   "cell_type": "code",
   "execution_count": 2,
   "metadata": {},
   "outputs": [
    {
     "name": "stdout",
     "output_type": "stream",
     "text": [
      "WARNING:tensorflow:From <ipython-input-2-70cc224a883e>:3: read_data_sets (from tensorflow.contrib.learn.python.learn.datasets.mnist) is deprecated and will be removed in a future version.\n",
      "Instructions for updating:\n",
      "Please use alternatives such as official/mnist/dataset.py from tensorflow/models.\n",
      "WARNING:tensorflow:From /Library/Frameworks/Python.framework/Versions/3.6/lib/python3.6/site-packages/tensorflow/contrib/learn/python/learn/datasets/mnist.py:260: maybe_download (from tensorflow.contrib.learn.python.learn.datasets.base) is deprecated and will be removed in a future version.\n",
      "Instructions for updating:\n",
      "Please write your own downloading logic.\n",
      "WARNING:tensorflow:From /Library/Frameworks/Python.framework/Versions/3.6/lib/python3.6/site-packages/tensorflow/contrib/learn/python/learn/datasets/mnist.py:262: extract_images (from tensorflow.contrib.learn.python.learn.datasets.mnist) is deprecated and will be removed in a future version.\n",
      "Instructions for updating:\n",
      "Please use tf.data to implement this functionality.\n",
      "Extracting MNIST_data/train-images-idx3-ubyte.gz\n",
      "WARNING:tensorflow:From /Library/Frameworks/Python.framework/Versions/3.6/lib/python3.6/site-packages/tensorflow/contrib/learn/python/learn/datasets/mnist.py:267: extract_labels (from tensorflow.contrib.learn.python.learn.datasets.mnist) is deprecated and will be removed in a future version.\n",
      "Instructions for updating:\n",
      "Please use tf.data to implement this functionality.\n",
      "Extracting MNIST_data/train-labels-idx1-ubyte.gz\n",
      "WARNING:tensorflow:From /Library/Frameworks/Python.framework/Versions/3.6/lib/python3.6/site-packages/tensorflow/contrib/learn/python/learn/datasets/mnist.py:110: dense_to_one_hot (from tensorflow.contrib.learn.python.learn.datasets.mnist) is deprecated and will be removed in a future version.\n",
      "Instructions for updating:\n",
      "Please use tf.one_hot on tensors.\n",
      "Extracting MNIST_data/t10k-images-idx3-ubyte.gz\n",
      "Extracting MNIST_data/t10k-labels-idx1-ubyte.gz\n",
      "WARNING:tensorflow:From /Library/Frameworks/Python.framework/Versions/3.6/lib/python3.6/site-packages/tensorflow/contrib/learn/python/learn/datasets/mnist.py:290: DataSet.__init__ (from tensorflow.contrib.learn.python.learn.datasets.mnist) is deprecated and will be removed in a future version.\n",
      "Instructions for updating:\n",
      "Please use alternatives such as official/mnist/dataset.py from tensorflow/models.\n"
     ]
    }
   ],
   "source": [
    "import tensorflow as tf\n",
    "from tensorflow.examples.tutorials.mnist import input_data\n",
    "mnist=input_data.read_data_sets('MNIST_data',one_hot=True)"
   ]
  },
  {
   "cell_type": "code",
   "execution_count": 3,
   "metadata": {},
   "outputs": [],
   "source": [
    "#批次大小\n",
    "batch_size=100\n",
    "#训练轮输\n",
    "n_batch=mnist.train.num_examples //batch_size\n",
    "#神经元输出概率——过拟合处理使用\n",
    "keep_probability=0.9\n",
    "\n",
    "def weights_variable(shape):\n",
    "    initial=tf.truncated_normal(shape,stddev=0.1)\n",
    "    return tf.Variable(initial)\n",
    "\n",
    "def bias_variable(shape):\n",
    "    initial=tf.constant(0.1,shape=shape)\n",
    "    return tf.Variable(initial)\n",
    "\n",
    "#卷积操作\n",
    "def conv2d(x,W):\n",
    "    \"\"\"\n",
    "    Given an input tensor of shape `[batch, in_height, in_width, in_channels]`\n",
    "    and a filter / kernel tensor of shape\n",
    "    `[filter_height, filter_width, in_channels, out_channels]`\n",
    "    \n",
    "    Must have `strides[0] = strides[3] = 1`.  For the most common case of the same\n",
    "    horizontal and vertices strides, `strides = [1, stride, stride, 1]`.\n",
    "    \"\"\"\n",
    "    return tf.nn.conv2d(x,W,strides=[1,1,1,1],padding='SAME')\n",
    "\n",
    "\n",
    "#池化操作\n",
    "def max_pool_2x2(x):\n",
    "    \"\"\"\n",
    "    卷积核大小：ksize=[1,x,y,1]\n",
    "    \"\"\"\n",
    "    return tf.nn.max_pool(x,ksize=[1,2,2,1],strides=[1,2,2,1],padding='SAME')\n",
    "\n"
   ]
  },
  {
   "cell_type": "code",
   "execution_count": 4,
   "metadata": {},
   "outputs": [],
   "source": [
    "x=tf.placeholder(tf.float32,[None,784])\n",
    "y=tf.placeholder(tf.float32,[None,10])\n",
    "\n",
    "#Reshape x to x_image:[batch, in_height, in_width, in_channels]\n",
    "#-1==None,表示数量不确定\n",
    "x_image=tf.reshape(x,[-1,28,28,1])\n",
    "\n",
    "\n",
    "\n",
    "#############卷积层一###################\n",
    "\n",
    "#filter初始化[filter_height, filter_width, in_channels, out_channels]\n",
    "#32个卷积核从1个平面抽取特征\n",
    "W_conv1=weights_variable([5,5,1,32])\n",
    "\n",
    "#每个卷积核对应一个偏置值，32个卷积核\n",
    "b_conv1=bias_variable([32])\n",
    "\n",
    "h_conv1=tf.nn.relu(conv2d(x_image,W_conv1)+b_conv1)\n",
    "#池化\n",
    "h_pool1=max_pool_2x2(h_conv1)\n",
    "\n",
    "\n",
    "#############卷积层二###################\n",
    "\n",
    "#5x5卷积核大小，使用64个卷积核从32个平面中提取特征\n",
    "W_conv2=weights_variable([5,5,32,64])\n",
    "b_conv2=bias_variable([64])\n",
    "\n",
    "h_conv2=tf.nn.relu(conv2d(h_pool1,W_conv2)+b_conv2)\n",
    "h_pool2=max_pool_2x2(h_conv2)\n",
    "\n"
   ]
  },
  {
   "cell_type": "markdown",
   "metadata": {},
   "source": [
    "### 说明\n",
    "\n",
    "一张28x28的图片（通道为1）在第一次卷积后还是28x28（使用的是32个卷积核，所以现在的通道为32）；\n",
    "池化之后便是一张14x14(通道32)的图片\n",
    "\n",
    "再一次卷积：14x14（通道64）；\n",
    "再池化：7x7（通道64）"
   ]
  },
  {
   "cell_type": "code",
   "execution_count": 5,
   "metadata": {},
   "outputs": [],
   "source": [
    "\n",
    "############全连接层一##############\n",
    "W_fc1=weights_variable([7*7*64,1000])\n",
    "b_fc1=bias_variable([1000])\n",
    "\n",
    "#将第二次卷积层的池化结果扁平化（flat）成一维\n",
    "h_pool2_flat=tf.reshape(h_pool2,[-1,7*7*64])\n",
    "#全连接输出\n",
    "h_fc1=tf.nn.relu(tf.matmul(h_pool2_flat,W_fc1)+b_fc1)\n",
    "\n",
    "#神经元输出概率\n",
    "keep_prob=tf.placeholder(tf.float32)\n",
    "h_fc1_drop=tf.nn.dropout(h_fc1,keep_prob)\n",
    "\n",
    "############全连接层二##############\n",
    "\n",
    "W_fc2=weights_variable([1000,10])\n",
    "b_fc2=bias_variable([10])\n",
    "\n",
    "#计算最终的输出结果\n",
    "prediction=tf.nn.softmax(tf.matmul(h_fc1_drop,W_fc2)+b_fc2)\n"
   ]
  },
  {
   "cell_type": "code",
   "execution_count": 6,
   "metadata": {},
   "outputs": [],
   "source": [
    "#优化\n",
    "loss=tf.reduce_mean(tf.nn.softmax_cross_entropy_with_logits_v2(labels=y,logits=prediction))\n",
    "train_step=tf.train.AdamOptimizer(1e-4).minimize(loss)\n",
    "\n",
    "correct_prediction=tf.equal(tf.argmax(prediction,1),tf.argmax(y,1))\n",
    "accuracy=tf.reduce_mean(tf.cast(correct_prediction,tf.float32))"
   ]
  },
  {
   "cell_type": "code",
   "execution_count": 9,
   "metadata": {},
   "outputs": [
    {
     "name": "stdout",
     "output_type": "stream",
     "text": [
      "Iter epoch:0,Testing accuracy:0.9581\n",
      "Iter epoch:1,Testing accuracy:0.9764\n",
      "Iter epoch:2,Testing accuracy:0.9775\n",
      "Iter epoch:3,Testing accuracy:0.9787\n",
      "Iter epoch:4,Testing accuracy:0.9841\n",
      "Iter epoch:5,Testing accuracy:0.9867\n",
      "Iter epoch:6,Testing accuracy:0.9868\n",
      "Iter epoch:7,Testing accuracy:0.9884\n",
      "Iter epoch:8,Testing accuracy:0.9885\n",
      "Iter epoch:9,Testing accuracy:0.989\n",
      "Iter epoch:10,Testing accuracy:0.9884\n"
     ]
    }
   ],
   "source": [
    "#训练\n",
    "\n",
    "with tf.Session() as sess:\n",
    "    sess.run(tf.global_variables_initializer())\n",
    "    for epoch in range(11):\n",
    "        for batch in range(n_batch):\n",
    "            batch_xs,batch_ys=mnist.train.next_batch(batch_size)\n",
    "            sess.run(train_step,feed_dict={x:batch_xs,y:batch_ys,keep_prob:keep_probability})\n",
    "        \n",
    "        acc=sess.run(accuracy,feed_dict={x:mnist.test.images,y:mnist.test.labels,keep_prob:1})\n",
    "        print(\"Iter epoch:%s,Testing accuracy:%s\" % (epoch,acc))\n",
    "    \n"
   ]
  }
 ],
 "metadata": {
  "kernelspec": {
   "display_name": "Python 3",
   "language": "python",
   "name": "python3"
  },
  "language_info": {
   "codemirror_mode": {
    "name": "ipython",
    "version": 3
   },
   "file_extension": ".py",
   "mimetype": "text/x-python",
   "name": "python",
   "nbconvert_exporter": "python",
   "pygments_lexer": "ipython3",
   "version": "3.6.8"
  }
 },
 "nbformat": 4,
 "nbformat_minor": 2
}
