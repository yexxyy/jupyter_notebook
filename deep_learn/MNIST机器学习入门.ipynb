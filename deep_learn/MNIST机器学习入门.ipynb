{
 "cells": [
  {
   "cell_type": "code",
   "execution_count": 190,
   "metadata": {},
   "outputs": [
    {
     "name": "stdout",
     "output_type": "stream",
     "text": [
      "Extracting MNIST_data/train-images-idx3-ubyte.gz\n",
      "Extracting MNIST_data/train-labels-idx1-ubyte.gz\n",
      "Extracting MNIST_data/t10k-images-idx3-ubyte.gz\n",
      "Extracting MNIST_data/t10k-labels-idx1-ubyte.gz\n"
     ]
    },
    {
     "data": {
      "text/plain": [
       "Datasets(train=<tensorflow.contrib.learn.python.learn.datasets.mnist.DataSet object at 0x24c9214e0>, validation=<tensorflow.contrib.learn.python.learn.datasets.mnist.DataSet object at 0x276c2cb00>, test=<tensorflow.contrib.learn.python.learn.datasets.mnist.DataSet object at 0x276c4f320>)"
      ]
     },
     "execution_count": 190,
     "metadata": {},
     "output_type": "execute_result"
    }
   ],
   "source": [
    "#http://www.tensorfly.cn/tfdoc/tutorials/mnist_beginners.html\n",
    "import tensorflow as tf\n",
    "from tensorflow.examples.tutorials.mnist import input_data\n",
    "\n",
    "\n",
    "\"\"\"\n",
    "URLError: <urlopen error [SSL: CERTIFICATE_VERIFY_FAILED] \n",
    "certificate verify failed (_ssl.c:749)>\n",
    "\n",
    "解决办法一：\n",
    "import ssl\n",
    "ssl._create_default_https_context = ssl._create_unverified_context\n",
    "\n",
    "解决办法二：\n",
    "/Applications/Python 3.6/ReadMe.rtf中提到：\n",
    "\n",
    "Certificate verification and OpenSSL\n",
    "\n",
    "**NEW** This variant of Python 3.6 now includes its own private copy of OpenSSL 1.0.2.  \n",
    "Unlike previous releases, the deprecated Apple-supplied OpenSSL libraries are no longer used.  \n",
    "This also means that the trust certificates in system and user keychains managed by the \n",
    "Keychain Access application and the security command line utility are no longer used as \n",
    "defaults by the Python ssl module.  For 3.6.0, a sample command script is included in \n",
    "/Applications/Python 3.6 to install a curated bundle of default root certificates from the \n",
    "third-party certifi package (https://pypi.python.org/pypi/certifi).  If you choose to \n",
    "use certifi, you should consider subscribing to the project's email update service to be\n",
    "notified when the certificate bundle is updated.\n",
    "\n",
    "The bundled pip included with the Python 3.6 installer has its own default certificate store \n",
    "for verifying download connections.\n",
    "\n",
    "具体操作：\n",
    "执行/Applications/Python 3.6/Install Certificates.command\n",
    "\"\"\"\n",
    "\n",
    "mnist = input_data.read_data_sets(\"MNIST_data/\", one_hot=True)\n",
    "mnist"
   ]
  },
  {
   "cell_type": "code",
   "execution_count": 191,
   "metadata": {},
   "outputs": [
    {
     "data": {
      "text/plain": [
       "(<tf.Tensor 'Placeholder_53:0' shape=(?, 784) dtype=float32>,\n",
       " <tf.Tensor 'Placeholder_54:0' shape=(?, 10) dtype=float32>,\n",
       " <tf.Variable 'Variable_54:0' shape=(784, 10) dtype=float32_ref>,\n",
       " <tf.Variable 'Variable_55:0' shape=(10,) dtype=float32_ref>)"
      ]
     },
     "execution_count": 191,
     "metadata": {},
     "output_type": "execute_result"
    }
   ],
   "source": [
    "#设置变量\n",
    "x=tf.placeholder(tf.float32,[None,784])\n",
    "y=tf.placeholder(tf.float32,[None,10])\n",
    "\n",
    "Weights=tf.Variable(tf.zeros([784,10]))\n",
    "biases=tf.Variable(tf.zeros([10]))\n",
    "\n",
    "x,y,Weights,biases"
   ]
  },
  {
   "cell_type": "code",
   "execution_count": 192,
   "metadata": {},
   "outputs": [],
   "source": [
    "#构造模型\n",
    "prediction=tf.nn.softmax(tf.matmul(x,Weights)+biases)\n",
    "\n",
    "#loss\n",
    "# loss=tf.square(prediction-y)\n",
    "# loss=tf.reduce_mean(tf.square(prediction-y))\n",
    "# loss=tf.nn.softmax_cross_entropy_with_logits_v2(labels=y,logits=prediction)\n",
    "loss=tf.reduce_mean(tf.nn.softmax_cross_entropy_with_logits_v2(labels=y,logits=prediction))\n",
    "\n",
    "train_step=tf.train.GradientDescentOptimizer(0.01).minimize(loss)"
   ]
  },
  {
   "cell_type": "code",
   "execution_count": 193,
   "metadata": {},
   "outputs": [],
   "source": [
    "#评估\n",
    "#correct_prediction是一个bool list\n",
    "correct_prediction=tf.equal(tf.argmax(y,1),tf.argmax(prediction,1))\n",
    "#准确率\n",
    "\"\"\"\n",
    "tf.cast:转化类型 True->1.0;False->0.0\n",
    "tf.reduce_mean:求平均值，即准确率\n",
    "\"\"\"\n",
    "accuracy=tf.reduce_mean(tf.cast(correct_prediction,tf.float32))"
   ]
  },
  {
   "cell_type": "code",
   "execution_count": 194,
   "metadata": {},
   "outputs": [],
   "source": [
    "sess=tf.Session()\n",
    "sess.run(tf.global_variables_initializer())"
   ]
  },
  {
   "cell_type": "code",
   "execution_count": 195,
   "metadata": {},
   "outputs": [
    {
     "name": "stdout",
     "output_type": "stream",
     "text": [
      "0.3013\n",
      "0.7443\n",
      "0.8034\n",
      "0.8135\n",
      "0.8196\n",
      "0.8239\n",
      "0.826\n",
      "0.8298\n",
      "0.86\n",
      "0.8751\n",
      "0.8853\n",
      "0.8917\n",
      "0.8956\n",
      "0.897\n",
      "0.8989\n"
     ]
    }
   ],
   "source": [
    "#训练\n",
    "for i in range(30000):\n",
    "    batch_xs, batch_ys = mnist.train.next_batch(100)\n",
    "    sess.run(train_step, feed_dict={x: batch_xs, y: batch_ys})\n",
    "    if i%2000==0:\n",
    "        res=sess.run(accuracy,feed_dict={x:mnist.test.images,y:mnist.test.labels})\n",
    "        print(res)"
   ]
  },
  {
   "cell_type": "markdown",
   "metadata": {},
   "source": [
    "# 不同loss对应的训练效果\n",
    "\n",
    "#### loss=tf.square(prediction-y)\n",
    "\n",
    "0.1428\n",
    "0.9214\n",
    "0.9255\n",
    "0.9269\n",
    "0.927\n",
    "0.9287\n",
    "0.9301\n",
    "0.928\n",
    "0.9309\n",
    "0.9285\n",
    "0.9268\n",
    "0.9283\n",
    "0.931\n",
    "0.9306\n",
    "0.93\n",
    "***\n",
    "#### loss=tf.reduce_mean(tf.square(prediction-y))\n",
    "\n",
    "0.5336\n",
    "0.6663\n",
    "0.7053\n",
    "0.7565\n",
    "0.7869\n",
    "0.8228\n",
    "0.8403\n",
    "0.8484\n",
    "0.8586\n",
    "0.864\n",
    "0.8681\n",
    "0.8707\n",
    "0.8736\n",
    "0.8759\n",
    "0.8781\n",
    "***\n",
    "#### loss=tf.nn.softmax_cross_entropy_with_logits(labels=y,logits=prediction)\n",
    "\n",
    "0.1872\n",
    "0.9199\n",
    "0.9249\n",
    "0.9265\n",
    "0.9264\n",
    "0.927\n",
    "0.9271\n",
    "0.9275\n",
    "0.9276\n",
    "0.9288\n",
    "0.929\n",
    "0.9286\n",
    "0.928\n",
    "0.9292\n",
    "0.9296\n",
    "***\n",
    "#### loss=tf.reduce_mean(tf.nn.softmax_cross_entropy_with_logits(labels=y,logits=prediction))\n",
    "\n",
    "0.267\n",
    "0.7398\n",
    "0.8028\n",
    "0.8136\n",
    "0.8203\n",
    "0.8238\n",
    "0.8264\n",
    "0.8301\n",
    "0.8608\n",
    "0.876\n",
    "0.8856\n",
    "0.892\n",
    "0.8955\n",
    "0.8973\n",
    "0.899"
   ]
  }
 ],
 "metadata": {
  "kernelspec": {
   "display_name": "Python 3",
   "language": "python",
   "name": "python3"
  },
  "language_info": {
   "codemirror_mode": {
    "name": "ipython",
    "version": 3
   },
   "file_extension": ".py",
   "mimetype": "text/x-python",
   "name": "python",
   "nbconvert_exporter": "python",
   "pygments_lexer": "ipython3",
   "version": "3.6.1"
  }
 },
 "nbformat": 4,
 "nbformat_minor": 2
}
