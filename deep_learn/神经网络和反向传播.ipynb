{
 "cells": [
  {
   "cell_type": "code",
   "execution_count": 1,
   "metadata": {},
   "outputs": [
    {
     "data": {
      "text/plain": [
       "'/Users/yexianyong/Downloads/machine_learning/mnist/train-images-idx3-ubyte'"
      ]
     },
     "execution_count": 1,
     "metadata": {},
     "output_type": "execute_result"
    }
   ],
   "source": [
    "#https://www.zybuluo.com/hanbingtao/note/476663\n",
    "#手写数字识别\n",
    "\n",
    "#数据下载\n",
    "# from tensorflow.examples.tutorials.mnist import input_data\n",
    "# mnist=input_data.read_data_sets('/tmp/',one_hot=True)\n",
    "#或者：download:http://yann.lecun.com/exdb/mnist/\n",
    "\n",
    "#文件路径\n",
    "import os\n",
    "\n",
    "base_path='/Users/yexianyong/Downloads/machine_learning/mnist'\n",
    "training_images_path=os.path.join(base_path,'train-images-idx3-ubyte')\n",
    "training_labels_path=os.path.join(base_path,'train-labels-idx1-ubyte')\n",
    "test_images_path=os.path.join(base_path,'t10k-images-idx3-ubyte')\n",
    "test_labels_path=os.path.join(base_path,'t10k-labels-idx1-ubyte')\n",
    "\n",
    "training_images_path"
   ]
  },
  {
   "cell_type": "code",
   "execution_count": 2,
   "metadata": {},
   "outputs": [
    {
     "data": {
      "text/plain": [
       "(array([[0, 0, 0, ..., 0, 0, 0],\n",
       "        [0, 0, 0, ..., 0, 0, 0],\n",
       "        [0, 0, 0, ..., 0, 0, 0],\n",
       "        ...,\n",
       "        [0, 0, 0, ..., 0, 0, 0],\n",
       "        [0, 0, 0, ..., 0, 0, 0],\n",
       "        [0, 0, 0, ..., 0, 0, 0]], dtype=uint8),\n",
       " array([5, 0, 4, ..., 5, 6, 8], dtype=uint8))"
      ]
     },
     "execution_count": 2,
     "metadata": {},
     "output_type": "execute_result"
    }
   ],
   "source": [
    "#读取文件\n",
    "#http://blog.csdn.net/simple_the_best/article/details/75267863\n",
    "import struct\n",
    "import numpy as np\n",
    "\n",
    "def load_mnist(images_path,labels_path,kind='train'):\n",
    "    \"\"\"Load MNIST data from path\"\"\"\n",
    "    \n",
    "    with open(labels_path, 'rb') as lbpath:\n",
    "        magic, n = struct.unpack('>II',lbpath.read(8))\n",
    "        labels = np.fromfile(lbpath,dtype=np.uint8)\n",
    "\n",
    "    with open(images_path, 'rb') as imgpath:\n",
    "        magic, num, rows, cols = struct.unpack('>IIII',imgpath.read(16))\n",
    "        images = np.fromfile(imgpath,dtype=np.uint8).reshape(len(labels), 784)\n",
    "\n",
    "    return images, labels\n",
    "images,labels=load_mnist(training_images_path,training_labels_path)\n",
    "images,labels"
   ]
  },
  {
   "cell_type": "code",
   "execution_count": 3,
   "metadata": {},
   "outputs": [
    {
     "data": {
      "text/plain": [
       "<matplotlib.figure.Figure at 0x104cb6f60>"
      ]
     },
     "metadata": {},
     "output_type": "display_data"
    }
   ],
   "source": [
    "#可视化\n",
    "import matplotlib.pyplot as plt\n",
    "fig,ax=plt.subplots(nrows=2,ncols=5,sharex=True,sharey=True)\n",
    "\n",
    "ax = ax.flatten()\n",
    "for i in range(10):\n",
    "    img = images[i].reshape(28, 28)\n",
    "    ax[i].imshow(img, cmap='Greys', interpolation='nearest')\n",
    "    ax[i].set_title(labels[i])\n",
    "    \n",
    "ax[0].set_xticks([])\n",
    "ax[0].set_yticks([])\n",
    "\n",
    "plt.show()"
   ]
  },
  {
   "cell_type": "code",
   "execution_count": 4,
   "metadata": {},
   "outputs": [
    {
     "data": {
      "text/plain": [
       "array([[1., 0., 0., ..., 0., 0., 0.],\n",
       "       [1., 0., 0., ..., 0., 0., 0.],\n",
       "       [1., 0., 0., ..., 0., 0., 0.],\n",
       "       ...,\n",
       "       [1., 0., 0., ..., 0., 0., 0.],\n",
       "       [1., 0., 0., ..., 0., 0., 0.],\n",
       "       [1., 0., 0., ..., 0., 0., 0.]])"
      ]
     },
     "execution_count": 4,
     "metadata": {},
     "output_type": "execute_result"
    }
   ],
   "source": [
    "#构造训练相关数据\n",
    "#给images添加bias：1\n",
    "\n",
    "#inputs\n",
    "inputs=np.zeros((images.shape[0],images.shape[1]+1))\n",
    "inputs[:,0:1]=1#为数据添加bias 1\n",
    "inputs[:,1:]=images[:,:] \n",
    "\n",
    "inputs"
   ]
  },
  {
   "cell_type": "code",
   "execution_count": 5,
   "metadata": {},
   "outputs": [
    {
     "data": {
      "text/plain": [
       "((301, 785), array([[-0.09703018, -0.04615979,  0.0001531 , ...,  0.02149846,\n",
       "         -0.07660643, -0.08953048],\n",
       "        [-0.08925296,  0.01155495, -0.03990529, ...,  0.01995559,\n",
       "         -0.01609476,  0.06626159],\n",
       "        [-0.09945913,  0.02100241,  0.01574004, ..., -0.07347428,\n",
       "          0.06336288, -0.08747832],\n",
       "        ...,\n",
       "        [ 0.04450808, -0.08299663,  0.07490321, ..., -0.00184793,\n",
       "         -0.04599255, -0.07570831],\n",
       "        [ 0.06854333,  0.04166768, -0.07962897, ...,  0.05994914,\n",
       "          0.02611158, -0.09248465],\n",
       "        [ 0.09917285, -0.03033124, -0.01699427, ..., -0.07968547,\n",
       "          0.06349228, -0.05195257]]), (10,\n",
       "  301), array([[ 0.00793972, -0.02617251,  0.05323715, ...,  0.00582538,\n",
       "          0.01356117,  0.017592  ],\n",
       "        [ 0.00914931,  0.02610318,  0.08616297, ..., -0.09678547,\n",
       "         -0.0464649 , -0.09219297],\n",
       "        [-0.01293324,  0.07532688, -0.04263557, ..., -0.00537445,\n",
       "         -0.06074626, -0.08375735],\n",
       "        ...,\n",
       "        [-0.08076311, -0.09986797,  0.07962635, ...,  0.01637791,\n",
       "         -0.08300353,  0.02821135],\n",
       "        [ 0.0539684 ,  0.05266424, -0.09212148, ..., -0.09222257,\n",
       "          0.00663167,  0.09176664],\n",
       "        [ 0.06695056,  0.00085995,  0.04058997, ...,  0.0821281 ,\n",
       "          0.06600648, -0.06136712]]))"
      ]
     },
     "execution_count": 5,
     "metadata": {},
     "output_type": "execute_result"
    }
   ],
   "source": [
    "#超参数确定\n",
    "#Three layers\n",
    "#input layer nodes:785个(已添加bias)\n",
    "#hidden layer nodes:301个(已添加bias)\n",
    "#output layer nodes:10个\n",
    "\n",
    "#weights不能为0\n",
    "w12=np.random.uniform(-0.1,0.1,(301,inputs.shape[1]))\n",
    "w23=np.random.uniform(-0.1,0.1,(10,301))\n",
    "\n",
    "#学习率\n",
    "µ=0.001\n",
    "\n",
    "w12.shape,w12,w23.shape,w23"
   ]
  },
  {
   "cell_type": "code",
   "execution_count": 11,
   "metadata": {
    "scrolled": true
   },
   "outputs": [
    {
     "name": "stderr",
     "output_type": "stream",
     "text": [
      "/Library/Frameworks/Python.framework/Versions/3.6/lib/python3.6/site-packages/ipykernel_launcher.py:4: RuntimeWarning: overflow encountered in exp\n",
      "  after removing the cwd from sys.path.\n"
     ]
    }
   ],
   "source": [
    "#计算\n",
    "#激活函数sigmoid\n",
    "def sigmoid(x):\n",
    "    return 1.0 / (1.0 + np.exp(-x))\n",
    "\n",
    "def get_result(vec):\n",
    "    max_value_index = 0\n",
    "    max_value = 0\n",
    "    for i in range(len(vec)):\n",
    "        if vec[i] > max_value:\n",
    "            max_value = vec[i]\n",
    "            max_value_index = i\n",
    "    return max_value_index\n",
    "\n",
    "def softmax(vec):\n",
    "    return vec/np.sum(vec)\n",
    " \n",
    "\n",
    "for x,y in zip(inputs,labels):\n",
    "    \n",
    "    #计算输出值\n",
    "    z2=w12.dot(x)\n",
    "    a2=sigmoid(z2)\n",
    "    \n",
    "    z3=w23.dot(a2)\n",
    "    a3=softmax(z3)\n",
    "#     print('output:',a3)\n",
    "    \n",
    "    #反向传播\n",
    "    #######################\n",
    "    label=np.zeros(10)\n",
    "    label[y]=1\n",
    "#     print('lable:',label)\n",
    "#     print('output:',get_result(a3),'label:',y)\n",
    "    \n",
    "    delta3=a3-label\n",
    "#     print('delta3:',delta3)\n",
    "    \n",
    "    #更新w23\n",
    "    w23=w23+µ*delta3.reshape(len(delta3),1).dot(a2.reshape(1,len(a2)))\n",
    "    \n",
    "    #计算a2节点误差delta2\n",
    "    delta2=a2*(1-a2)*w23.T.dot(delta3)\n",
    "    \n",
    "    #更新w12\n",
    "#     print(x.shape,w12.shape,delta2.shape)\n",
    "    w12=w12+µ*delta2.reshape(len(delta2),1).dot(x.reshape(1,len(x)))\n",
    "    \n",
    "    #######################    "
   ]
  },
  {
   "cell_type": "code",
   "execution_count": 12,
   "metadata": {},
   "outputs": [
    {
     "data": {
      "text/plain": [
       "(array([[-0.09724281, -0.04615979,  0.0001531 , ...,  0.02149846,\n",
       "         -0.07660643, -0.08953048],\n",
       "        [-0.09023885,  0.01155495, -0.03990529, ...,  0.01995559,\n",
       "         -0.01609476,  0.06626159],\n",
       "        [-0.09925895,  0.02100241,  0.01574004, ..., -0.07347428,\n",
       "          0.06336288, -0.08747832],\n",
       "        ...,\n",
       "        [ 0.0440118 , -0.08299663,  0.07490321, ..., -0.00184793,\n",
       "         -0.04599255, -0.07570831],\n",
       "        [ 0.06850755,  0.04166768, -0.07962897, ...,  0.05994914,\n",
       "          0.02611158, -0.09248465],\n",
       "        [ 0.0996129 , -0.03033124, -0.01699427, ..., -0.07968547,\n",
       "          0.06349228, -0.05195257]]),\n",
       " array([[ 0.27313121,  0.24141242, -0.05374501, ...,  0.08856147,\n",
       "         -0.00520385, -0.13755349],\n",
       "        [-0.13011803,  0.01612494,  0.11656074, ..., -0.0909304 ,\n",
       "         -0.01429343, -0.07068541],\n",
       "        [-0.13573481, -0.01279747,  0.02005784, ..., -0.02479288,\n",
       "         -0.05922664, -0.02691463],\n",
       "        ...,\n",
       "        [-0.08646486, -0.1162357 ,  0.13499314, ..., -0.02464231,\n",
       "         -0.08907857, -0.05613616],\n",
       "        [-0.06679488, -0.09563305, -0.1026626 , ..., -0.1330913 ,\n",
       "         -0.07347617,  0.17936936],\n",
       "        [-0.02786068, -0.08828663,  0.04069054, ...,  0.05527983,\n",
       "          0.1467478 , -0.06289193]]))"
      ]
     },
     "execution_count": 12,
     "metadata": {},
     "output_type": "execute_result"
    }
   ],
   "source": [
    "w12,w23"
   ]
  },
  {
   "cell_type": "code",
   "execution_count": 13,
   "metadata": {},
   "outputs": [
    {
     "name": "stderr",
     "output_type": "stream",
     "text": [
      "/Library/Frameworks/Python.framework/Versions/3.6/lib/python3.6/site-packages/ipykernel_launcher.py:4: RuntimeWarning: overflow encountered in exp\n",
      "  after removing the cwd from sys.path.\n"
     ]
    },
    {
     "data": {
      "text/plain": [
       "0.1157"
      ]
     },
     "execution_count": 13,
     "metadata": {},
     "output_type": "execute_result"
    }
   ],
   "source": [
    "test_images,test_labels=load_mnist(test_images_path,test_labels_path)\n",
    "#数据预处理\n",
    "#inputs\n",
    "test_inputs=np.zeros((test_images.shape[0],test_images.shape[1]+1))\n",
    "test_inputs[:,0:1]=1#为数据添加bias 1\n",
    "test_inputs[:,1:]=test_images[:,:] \n",
    "\n",
    "error_counts=0\n",
    "for x,y in zip(test_inputs,test_labels):\n",
    "    \n",
    "    #计算输出值\n",
    "    z2=w12.dot(x)\n",
    "    a2=sigmoid(z2)\n",
    "    \n",
    "    z3=w23.dot(a2)\n",
    "    a3=softmax(z3)\n",
    "    \n",
    "    if int(get_result(a3))!=int(y):\n",
    "        error_counts+=1\n",
    "\n",
    "error_counts/len(test_labels)"
   ]
  }
 ],
 "metadata": {
  "kernelspec": {
   "display_name": "Python 3",
   "language": "python",
   "name": "python3"
  },
  "language_info": {
   "codemirror_mode": {
    "name": "ipython",
    "version": 3
   },
   "file_extension": ".py",
   "mimetype": "text/x-python",
   "name": "python",
   "nbconvert_exporter": "python",
   "pygments_lexer": "ipython3",
   "version": "3.6.1"
  }
 },
 "nbformat": 4,
 "nbformat_minor": 2
}
