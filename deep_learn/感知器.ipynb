{
 "cells": [
  {
   "cell_type": "code",
   "execution_count": 1,
   "metadata": {},
   "outputs": [
    {
     "name": "stdout",
     "output_type": "stream",
     "text": [
      "[ 0.1  0.1  0.1]\n",
      "[-0.2  0.   0. ]\n",
      "[-0.1  0.1  0.1]\n",
      "[-0.1  0.1  0.1]\n",
      "[-0.1  0.1  0.1]\n",
      "[-0.1  0.1  0.1]\n",
      "[-0.1  0.1  0.1]\n",
      "[-0.1  0.1  0.1]\n",
      "[-0.1  0.1  0.1]\n",
      "[-0.1  0.1  0.1]\n"
     ]
    }
   ],
   "source": [
    "#!/usr/bin/env python\n",
    "# -*- coding: utf-8 -*-\n",
    "# Created by yetongxue<yeli.studio@qq.com> on 2018/2/1 11:02\n",
    "\n",
    "\n",
    "#https://www.zybuluo.com/hanbingtao/note/433855\n",
    "import numpy as np\n",
    "def f(x):\n",
    "    '''\n",
    "    定义激活函数f\n",
    "    '''\n",
    "    return 1 if x > 0 else 0\n",
    "\n",
    "activator=f\n",
    "weights=np.array([0.0 for _ in range(3)])\n",
    "\n",
    "#datasets,基于and真值表构建训练数据\n",
    "#注意第一个1是bias,后面两个对应x1,x2\n",
    "input_vecs=np.array([[1,1,1],[1,1,0],[1,0,1],[1,0,0]])\n",
    "# 期望的输出列表，注意要与输入一一对应\n",
    "# [1,1,1] -> 1, [1,0,0] -> 0, [1,1,0] -> 0, [1,0,1] -> 0\n",
    "labels = np.array([1, 0, 0, 0])\n",
    "\n",
    "#输入训练数据：一组向量、与每个向量对应的label；以及训练轮数、学习率（10, 0.1）\n",
    "# print(datasets[:,:-1])\n",
    "\n",
    "for i in range(10):\n",
    "    #计算感知器计算结果\n",
    "    res_z=input_vecs.dot(weights.T)\n",
    "    res_a=np.array(list(map(activator,res_z)))\n",
    "    #更新权重\n",
    "    #按照感知器规则更新权重\n",
    "    dalta=labels-res_a\n",
    "    dalta_update=dalta.dot(input_vecs)*0.1\n",
    "    weights=weights+dalta_update\n",
    "    print(weights)\n"
   ]
  },
  {
   "cell_type": "code",
   "execution_count": 2,
   "metadata": {},
   "outputs": [
    {
     "data": {
      "text/plain": [
       "array([1, 0, 0, 0])"
      ]
     },
     "execution_count": 2,
     "metadata": {},
     "output_type": "execute_result"
    }
   ],
   "source": [
    "#验证\n",
    "w=np.array([-0.1,0.1,0.1])\n",
    "res_z=input_vecs.dot(w.T)\n",
    "res_a=np.array(list(map(activator,res_z)))\n",
    "res_a"
   ]
  }
 ],
 "metadata": {
  "kernelspec": {
   "display_name": "Python 3",
   "language": "python",
   "name": "python3"
  },
  "language_info": {
   "codemirror_mode": {
    "name": "ipython",
    "version": 3
   },
   "file_extension": ".py",
   "mimetype": "text/x-python",
   "name": "python",
   "nbconvert_exporter": "python",
   "pygments_lexer": "ipython3",
   "version": "3.6.1"
  }
 },
 "nbformat": 4,
 "nbformat_minor": 2
}
