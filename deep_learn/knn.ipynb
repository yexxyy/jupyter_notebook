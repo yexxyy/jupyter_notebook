{
 "cells": [
  {
   "cell_type": "markdown",
   "metadata": {},
   "source": [
    "# knn\n",
    "\n",
    "接下来对KNN算法的思想总结一下：就是在训练集中数据和标签已知的情况下，输入测试数据，将测试数据的特征与训练集中对应的特征进行相互比较，找到训练集中与之最为相似的前K个数据，则该测试数据对应的类别就是K个数据中出现次数最多的那个分类，其算法的描述为：\n",
    "\n",
    "1）计算测试数据与各个训练数据之间的距离；\n",
    "\n",
    "2）按照距离的递增关系进行排序；\n",
    "\n",
    "3）选取距离最小的K个点；\n",
    "\n",
    "4）确定前K个点所在类别的出现频率；\n",
    "\n",
    "5）返回前K个点中出现频率最高的类别作为测试数据的预测分类。\n",
    "\n",
    "[https://www.cnblogs.com/ybjourney/p/4702562.html](https://www.cnblogs.com/ybjourney/p/4702562.html)"
   ]
  },
  {
   "cell_type": "code",
   "execution_count": 2,
   "metadata": {},
   "outputs": [
    {
     "name": "stdout",
     "output_type": "stream",
     "text": [
      "测试数据为: [1.1 0.3] 分类结果为： A\n"
     ]
    }
   ],
   "source": [
    "#coding:utf-8\n",
    "\n",
    "from numpy import *\n",
    "import operator\n",
    "\n",
    "#给出训练数据以及对应的类别\n",
    "def createDataSet():\n",
    "    group = array([[1.0,2.0],[1.2,0.1],[0.1,1.4],[0.3,3.5]])\n",
    "    labels = ['A','A','B','B']\n",
    "    return group,labels\n",
    "\n",
    "#通过KNN进行分类\n",
    "def classify(input,dataSet,label,k):\n",
    "    dataSize = dataSet.shape[0]\n",
    "    #计算欧式距离\n",
    "    diff = tile(input,(dataSize,1)) - dataSet\n",
    "    sqdiff = diff ** 2\n",
    "    squareDist = sum(sqdiff,axis = 1)#行向量分别相加，从而得到新的一个行向量\n",
    "    dist = squareDist ** 0.5\n",
    "    \n",
    "    #对距离进行排序\n",
    "    sortedDistIndex = argsort(dist)#argsort()根据元素的值从大到小对元素进行排序，返回下标\n",
    "\n",
    "    classCount={}\n",
    "    for i in range(k):\n",
    "        voteLabel = label[sortedDistIndex[i]]\n",
    "        #对选取的K个样本所属的类别个数进行统计\n",
    "        classCount[voteLabel] = classCount.get(voteLabel,0) + 1\n",
    "    #选取出现的类别次数最多的类别\n",
    "    maxCount = 0\n",
    "    for key,value in classCount.items():\n",
    "        if value > maxCount:\n",
    "            maxCount = value\n",
    "            classes = key\n",
    "\n",
    "    return classes\n",
    "\n",
    "#-*-coding:utf-8 -*-\n",
    "import sys\n",
    "sys.path.append(\"...文件路径...\")\n",
    "from numpy import *\n",
    "dataSet,labels = createDataSet()\n",
    "input = array([1.1,0.3])\n",
    "K = 3\n",
    "output =classify(input,dataSet,labels,K)\n",
    "print(\"测试数据为:\",input,\"分类结果为：\",output)"
   ]
  },
  {
   "cell_type": "code",
   "execution_count": 5,
   "metadata": {},
   "outputs": [
    {
     "name": "stdout",
     "output_type": "stream",
     "text": [
      "Extracting MNIST_data/train-images-idx3-ubyte.gz\n",
      "Extracting MNIST_data/train-labels-idx1-ubyte.gz\n",
      "Extracting MNIST_data/t10k-images-idx3-ubyte.gz\n",
      "Extracting MNIST_data/t10k-labels-idx1-ubyte.gz\n"
     ]
    },
    {
     "data": {
      "text/plain": [
       "Datasets(train=<tensorflow.contrib.learn.python.learn.datasets.mnist.DataSet object at 0x118f5db00>, validation=<tensorflow.contrib.learn.python.learn.datasets.mnist.DataSet object at 0x118f5d128>, test=<tensorflow.contrib.learn.python.learn.datasets.mnist.DataSet object at 0x118f5de10>)"
      ]
     },
     "execution_count": 5,
     "metadata": {},
     "output_type": "execute_result"
    }
   ],
   "source": [
    "import tensorflow as tf\n",
    "import numpy as np\n",
    "import random\n",
    "from tensorflow.examples.tutorials.mnist import input_data\n",
    "\n",
    "mnist = input_data.read_data_sets('MNIST_data',one_hot=True)\n",
    "mnist"
   ]
  },
  {
   "cell_type": "code",
   "execution_count": 8,
   "metadata": {},
   "outputs": [
    {
     "data": {
      "text/plain": [
       "(<tf.Tensor 'Placeholder_2:0' shape=(?, 784) dtype=float32>,\n",
       " <tf.Tensor 'ExpandDims_1:0' shape=(?, 1, 784) dtype=float32>,\n",
       " <tf.Tensor 'Sub:0' shape=(?, ?, 784) dtype=float32>)"
      ]
     },
     "execution_count": 8,
     "metadata": {},
     "output_type": "execute_result"
    }
   ],
   "source": [
    "test_data_input=tf.placeholder(shape=[None,784],dtype=tf.float32)\n",
    "train_data_input=tf.placeholder(shape=[None,784],dtype=tf.float32)\n",
    "f1=tf.expand_dims(test_data_input,1)\n",
    "f2=tf.subtract(train_data_input,f1)\n",
    "\n",
    "test_data_input,f1,f2"
   ]
  }
 ],
 "metadata": {
  "kernelspec": {
   "display_name": "Python 3",
   "language": "python",
   "name": "python3"
  },
  "language_info": {
   "codemirror_mode": {
    "name": "ipython",
    "version": 3
   },
   "file_extension": ".py",
   "mimetype": "text/x-python",
   "name": "python",
   "nbconvert_exporter": "python",
   "pygments_lexer": "ipython3",
   "version": "3.6.1"
  }
 },
 "nbformat": 4,
 "nbformat_minor": 2
}
