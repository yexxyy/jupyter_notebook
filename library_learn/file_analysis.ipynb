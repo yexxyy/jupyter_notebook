{
 "cells": [
  {
   "cell_type": "code",
   "execution_count": 13,
   "metadata": {},
   "outputs": [],
   "source": [
    "import tensorflow as tf\n",
    "import os\n",
    "LOG_DIR='/Users/yexianyong/Desktop/machine_learn/project/logs/inception-v3'\n",
    "\n",
    "label_lookup_path=os.path.join(LOG_DIR,'imagenet_2012_challenge_label_map_proto.pbtxt')    \n",
    "uid_lookup_path=os.path.join(LOG_DIR,'imagenet_synset_to_human_label_map.txt')             "
   ]
  },
  {
   "cell_type": "code",
   "execution_count": 53,
   "metadata": {},
   "outputs": [],
   "source": [
    "\"\"\"\n",
    "n13134302\tbulbous plant\n",
    "n13134531\tbulbil, bulblet\n",
    "n13134844\tcormous plant\n",
    "n13134947\tfruit\n",
    "n13135692\tfruitlet\n",
    "\"\"\"\n",
    "label_proto_lines=tf.gfile.GFile(uid_lookup_path)\n",
    "uid_to_human={}\n",
    "for line in label_proto_lines:\n",
    "    line=line.strip('\\n')\n",
    "    parsed_items=line.split('\\t')\n",
    "    uid_to_human[parsed_items[0]]=parsed_items[1]\n"
   ]
  },
  {
   "cell_type": "code",
   "execution_count": 51,
   "metadata": {},
   "outputs": [],
   "source": [
    "\"\"\"\n",
    "entry {\n",
    "  target_class: 981\n",
    "  target_class_string: \"n13054560\"\n",
    "}\n",
    "entry {\n",
    "  target_class: 329\n",
    "  target_class_string: \"n13133613\"\n",
    "}\n",
    "\"\"\"\n",
    "label_class_lines=tf.gfile.GFile(label_lookup_path)\n",
    "node_id_to_uid={}\n",
    "for line in label_class_lines:\n",
    "    if line.startswith('  target_class:'):\n",
    "        #获取分类编号\n",
    "        target_class=int(line.split(':')[1])\n",
    "    if line.startswith('  target_class_string:'):\n",
    "        #获取uid\n",
    "        target_class_string=line.split('\"')[1]\n",
    "        node_id_to_uid[target_class]=target_class_string\n",
    "           "
   ]
  },
  {
   "cell_type": "code",
   "execution_count": 52,
   "metadata": {},
   "outputs": [
    {
     "data": {
      "text/plain": [
       "\"\\n 878: 'earthstar',\\n 812: 'hen-of-the-woods, hen of the woods, Polyporus frondosus, Grifola frondosa',\\n 981: 'bolete',\\n 329: 'ear, spike, capitulum'}\\n\""
      ]
     },
     "execution_count": 52,
     "metadata": {},
     "output_type": "execute_result"
    }
   ],
   "source": [
    "#将上面两个字典通过n15075141建立889与organism, being的链接\n",
    "node_id_to_name={}\n",
    "for key,value in node_id_to_uid.items():\n",
    "    try:\n",
    "        name=uid_to_human[value]\n",
    "        node_id_to_name[key]=name\n",
    "    except KeyError :\n",
    "        pass\n",
    "    \n",
    "\"\"\"\n",
    " 878: 'earthstar',\n",
    " 812: 'hen-of-the-woods, hen of the woods, Polyporus frondosus, Grifola frondosa',\n",
    " 981: 'bolete',\n",
    " 329: 'ear, spike, capitulum'}\n",
    "\"\"\"\n"
   ]
  }
 ],
 "metadata": {
  "kernelspec": {
   "display_name": "Python 3",
   "language": "python",
   "name": "python3"
  },
  "language_info": {
   "codemirror_mode": {
    "name": "ipython",
    "version": 3
   },
   "file_extension": ".py",
   "mimetype": "text/x-python",
   "name": "python",
   "nbconvert_exporter": "python",
   "pygments_lexer": "ipython3",
   "version": "3.6.1"
  }
 },
 "nbformat": 4,
 "nbformat_minor": 2
}
