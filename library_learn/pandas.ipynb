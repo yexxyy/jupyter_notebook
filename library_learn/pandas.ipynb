{
 "cells": [
  {
   "cell_type": "code",
   "execution_count": 1,
   "metadata": {},
   "outputs": [],
   "source": [
    "import pandas as pd\n",
    "\n",
    "import datetime\n",
    "from collections import Counter\n",
    "import math\n",
    "path='/Users/yexianyong/Downloads/福年-11月原始打卡数据.xlsx'\n",
    "# data=pd.read_excel(path)\n",
    "# data = data[(data['姓名'] == \"叶显勇\")]\n",
    "# # print(data)\n",
    "\n",
    "# index = data.index[3]\n",
    "\n",
    "\n",
    "# on_date=datetime.datetime.strptime('2017/11/2 09:33:18','%Y/%m/%d %H:%M:%S')\n",
    "# off_date=datetime.datetime.strptime('2017/11/2 18:53:18','%Y/%m/%d %H:%M:%S')\n",
    "# duration=off_date-on_date\n",
    "# hours=(duration.days*24*60+duration.seconds/60.0)/60.0\n",
    "# if on_date.hour<12 and off_date.hour >13:\n",
    "#     hours=hours-1\n",
    "# print (math.ceil(8-hours))\n",
    "\n",
    "# print(on_date.hour-9,on_date.minute)\n",
    "    \n",
    "    \n",
    "# print(type(off_date))\n",
    "\n",
    "      "
   ]
  },
  {
   "cell_type": "code",
   "execution_count": 2,
   "metadata": {
    "scrolled": true
   },
   "outputs": [
    {
     "name": "stdout",
     "output_type": "stream",
     "text": [
      "      data1     data2 key1   key2\n",
      "0 -0.355850 -1.684653    a    one\n",
      "1 -0.601365 -1.734286    b    one\n",
      "2 -0.752429  0.084880    a    two\n",
      "3  1.098388  0.721257    b  three\n",
      "4 -0.048424 -0.104549    a    two\n",
      "5  0.803675  1.638549    b    two\n",
      "6 -0.199702  0.725063    a    one\n",
      "7  0.506176  1.065139    a  three\n"
     ]
    }
   ],
   "source": [
    "#help document:https://www.jianshu.com/p/4345878fb316\n",
    "import numpy as np\n",
    "dict_obj = {'key1' : ['a', 'b', 'a', 'b', \n",
    "                      'a', 'b', 'a', 'a'],\n",
    "            'key2' : ['one', 'one', 'two', 'three',\n",
    "                      'two', 'two', 'one', 'three'],\n",
    "            'data1': np.random.randn(8),\n",
    "            'data2': np.random.randn(8)}\n",
    "df_obj=pd.DataFrame(dict_obj)\n",
    "print(df_obj)\n"
   ]
  },
  {
   "cell_type": "code",
   "execution_count": 19,
   "metadata": {
    "scrolled": true
   },
   "outputs": [
    {
     "data": {
      "text/html": [
       "<div>\n",
       "<style scoped>\n",
       "    .dataframe tbody tr th:only-of-type {\n",
       "        vertical-align: middle;\n",
       "    }\n",
       "\n",
       "    .dataframe tbody tr th {\n",
       "        vertical-align: top;\n",
       "    }\n",
       "\n",
       "    .dataframe thead th {\n",
       "        text-align: right;\n",
       "    }\n",
       "</style>\n",
       "<table border=\"1\" class=\"dataframe\">\n",
       "  <thead>\n",
       "    <tr style=\"text-align: right;\">\n",
       "      <th></th>\n",
       "      <th>data1</th>\n",
       "      <th>data2</th>\n",
       "      <th>key1</th>\n",
       "      <th>key2</th>\n",
       "      <th>add</th>\n",
       "    </tr>\n",
       "  </thead>\n",
       "  <tbody>\n",
       "    <tr>\n",
       "      <th>0</th>\n",
       "      <td>-0.355850</td>\n",
       "      <td>-1.684653</td>\n",
       "      <td>a</td>\n",
       "      <td>one</td>\n",
       "      <td>NaN</td>\n",
       "    </tr>\n",
       "    <tr>\n",
       "      <th>1</th>\n",
       "      <td>-0.601365</td>\n",
       "      <td>-1.734286</td>\n",
       "      <td>b</td>\n",
       "      <td>one</td>\n",
       "      <td>NaN</td>\n",
       "    </tr>\n",
       "    <tr>\n",
       "      <th>2</th>\n",
       "      <td>-0.752429</td>\n",
       "      <td>0.084880</td>\n",
       "      <td>a</td>\n",
       "      <td>two</td>\n",
       "      <td>NaN</td>\n",
       "    </tr>\n",
       "    <tr>\n",
       "      <th>3</th>\n",
       "      <td>1.098388</td>\n",
       "      <td>0.721257</td>\n",
       "      <td>b</td>\n",
       "      <td>three</td>\n",
       "      <td>NaN</td>\n",
       "    </tr>\n",
       "    <tr>\n",
       "      <th>4</th>\n",
       "      <td>-0.048424</td>\n",
       "      <td>-0.104549</td>\n",
       "      <td>a</td>\n",
       "      <td>two</td>\n",
       "      <td>NaN</td>\n",
       "    </tr>\n",
       "    <tr>\n",
       "      <th>5</th>\n",
       "      <td>0.803675</td>\n",
       "      <td>1.638549</td>\n",
       "      <td>b</td>\n",
       "      <td>two</td>\n",
       "      <td>NaN</td>\n",
       "    </tr>\n",
       "    <tr>\n",
       "      <th>6</th>\n",
       "      <td>-0.199702</td>\n",
       "      <td>0.725063</td>\n",
       "      <td>a</td>\n",
       "      <td>one</td>\n",
       "      <td>NaN</td>\n",
       "    </tr>\n",
       "    <tr>\n",
       "      <th>7</th>\n",
       "      <td>0.506176</td>\n",
       "      <td>1.065139</td>\n",
       "      <td>a</td>\n",
       "      <td>three</td>\n",
       "      <td>NaN</td>\n",
       "    </tr>\n",
       "  </tbody>\n",
       "</table>\n",
       "</div>"
      ],
      "text/plain": [
       "      data1     data2 key1   key2  add\n",
       "0 -0.355850 -1.684653    a    one  NaN\n",
       "1 -0.601365 -1.734286    b    one  NaN\n",
       "2 -0.752429  0.084880    a    two  NaN\n",
       "3  1.098388  0.721257    b  three  NaN\n",
       "4 -0.048424 -0.104549    a    two  NaN\n",
       "5  0.803675  1.638549    b    two  NaN\n",
       "6 -0.199702  0.725063    a    one  NaN\n",
       "7  0.506176  1.065139    a  three  NaN"
      ]
     },
     "execution_count": 19,
     "metadata": {},
     "output_type": "execute_result"
    }
   ],
   "source": [
    "df_obj['add']=df_obj[['data1','data2']].apply(lambda x:x[0]+x[2])\n",
    "df_obj"
   ]
  },
  {
   "cell_type": "code",
   "execution_count": 33,
   "metadata": {},
   "outputs": [
    {
     "data": {
      "text/plain": [
       "[{'add': None,\n",
       "  'data1': -0.3558495629,\n",
       "  'data2': -1.6846531229,\n",
       "  'key1': 'a',\n",
       "  'key2': 'one'},\n",
       " {'add': None,\n",
       "  'data1': -0.60136465,\n",
       "  'data2': -1.7342862084,\n",
       "  'key1': 'b',\n",
       "  'key2': 'one'},\n",
       " {'add': None,\n",
       "  'data1': -0.7524289875,\n",
       "  'data2': 0.0848804808,\n",
       "  'key1': 'a',\n",
       "  'key2': 'two'},\n",
       " {'add': None,\n",
       "  'data1': 1.0983881397,\n",
       "  'data2': 0.7212568642,\n",
       "  'key1': 'b',\n",
       "  'key2': 'three'},\n",
       " {'add': None,\n",
       "  'data1': -0.0484236711,\n",
       "  'data2': -0.1045494534,\n",
       "  'key1': 'a',\n",
       "  'key2': 'two'},\n",
       " {'add': None,\n",
       "  'data1': 0.8036745164,\n",
       "  'data2': 1.6385488656,\n",
       "  'key1': 'b',\n",
       "  'key2': 'two'},\n",
       " {'add': None,\n",
       "  'data1': -0.1997017231,\n",
       "  'data2': 0.7250632664,\n",
       "  'key1': 'a',\n",
       "  'key2': 'one'},\n",
       " {'add': None,\n",
       "  'data1': 0.5061760349,\n",
       "  'data2': 1.065138978,\n",
       "  'key1': 'a',\n",
       "  'key2': 'three'}]"
      ]
     },
     "execution_count": 33,
     "metadata": {},
     "output_type": "execute_result"
    }
   ],
   "source": [
    "import json\n",
    "a=df_obj.to_json(orient='records')\n",
    "# for index in df_obj.index:\n",
    "#     print(json.loads(a)[str(index)])\n",
    "#     break\n",
    "json.loads(a)"
   ]
  },
  {
   "cell_type": "code",
   "execution_count": 3,
   "metadata": {
    "scrolled": true
   },
   "outputs": [
    {
     "name": "stdout",
     "output_type": "stream",
     "text": [
      "         data1     data2\n",
      "key1                    \n",
      "a    -0.170046  0.017176\n",
      "b     0.433566  0.208507\n",
      "key1\n",
      "a   -0.170046\n",
      "b    0.433566\n",
      "Name: data1, dtype: float64\n",
      "key1\n",
      "a    5\n",
      "b    3\n",
      "dtype: int64 key1\n",
      "a    5\n",
      "b    3\n",
      "Name: data1, dtype: int64\n"
     ]
    }
   ],
   "source": [
    "group1=df_obj.groupby('key1')\n",
    "print(group1.mean())\n",
    "group2=df_obj['data1'].groupby(df_obj['key1'])\n",
    "print (group2.mean())\n",
    "print(group1.size(),group2.size())"
   ]
  },
  {
   "cell_type": "code",
   "execution_count": 4,
   "metadata": {},
   "outputs": [
    {
     "data": {
      "text/html": [
       "<div>\n",
       "<style scoped>\n",
       "    .dataframe tbody tr th:only-of-type {\n",
       "        vertical-align: middle;\n",
       "    }\n",
       "\n",
       "    .dataframe tbody tr th {\n",
       "        vertical-align: top;\n",
       "    }\n",
       "\n",
       "    .dataframe thead th {\n",
       "        text-align: right;\n",
       "    }\n",
       "</style>\n",
       "<table border=\"1\" class=\"dataframe\">\n",
       "  <thead>\n",
       "    <tr style=\"text-align: right;\">\n",
       "      <th></th>\n",
       "      <th>0</th>\n",
       "    </tr>\n",
       "  </thead>\n",
       "  <tbody>\n",
       "    <tr>\n",
       "      <th>2018-05-22</th>\n",
       "      <td>0</td>\n",
       "    </tr>\n",
       "    <tr>\n",
       "      <th>2018-05-23</th>\n",
       "      <td>0</td>\n",
       "    </tr>\n",
       "    <tr>\n",
       "      <th>2018-05-24</th>\n",
       "      <td>0</td>\n",
       "    </tr>\n",
       "    <tr>\n",
       "      <th>2018-05-25</th>\n",
       "      <td>0</td>\n",
       "    </tr>\n",
       "  </tbody>\n",
       "</table>\n",
       "</div>"
      ],
      "text/plain": [
       "            0\n",
       "2018-05-22  0\n",
       "2018-05-23  0\n",
       "2018-05-24  0\n",
       "2018-05-25  0"
      ]
     },
     "execution_count": 4,
     "metadata": {},
     "output_type": "execute_result"
    }
   ],
   "source": [
    "from datetime import datetime,timedelta\n",
    "import pandas as pd\n",
    "\n",
    "start_date = datetime.strptime('2018-05-22', '%Y-%m-%d')\n",
    "end_date = datetime.strptime('2018-05-26', '%Y-%m-%d')\n",
    "days=(end_date - start_date).days\n",
    "\n",
    "data = [0 for day in range(days)]\n",
    "days_list=[datetime.strftime(start_date+timedelta(days=delta),'%Y-%m-%d') for delta in range(days)]\n",
    "days_df=pd.DataFrame(data,index=days_list)\n",
    "\n",
    "days_df"
   ]
  },
  {
   "cell_type": "code",
   "execution_count": 5,
   "metadata": {},
   "outputs": [
    {
     "data": {
      "text/html": [
       "<div>\n",
       "<style scoped>\n",
       "    .dataframe tbody tr th:only-of-type {\n",
       "        vertical-align: middle;\n",
       "    }\n",
       "\n",
       "    .dataframe tbody tr th {\n",
       "        vertical-align: top;\n",
       "    }\n",
       "\n",
       "    .dataframe thead th {\n",
       "        text-align: right;\n",
       "    }\n",
       "</style>\n",
       "<table border=\"1\" class=\"dataframe\">\n",
       "  <thead>\n",
       "    <tr style=\"text-align: right;\">\n",
       "      <th></th>\n",
       "      <th>0</th>\n",
       "    </tr>\n",
       "  </thead>\n",
       "  <tbody>\n",
       "    <tr>\n",
       "      <th>2018-05-22</th>\n",
       "      <td>1</td>\n",
       "    </tr>\n",
       "    <tr>\n",
       "      <th>2018-05-23</th>\n",
       "      <td>2</td>\n",
       "    </tr>\n",
       "  </tbody>\n",
       "</table>\n",
       "</div>"
      ],
      "text/plain": [
       "            0\n",
       "2018-05-22  1\n",
       "2018-05-23  2"
      ]
     },
     "execution_count": 5,
     "metadata": {},
     "output_type": "execute_result"
    }
   ],
   "source": [
    "\n",
    "df=pd.DataFrame(data=({'count':[1,2,3]}),index=['2018-05-22','2018-05-23','2018-05-23'])\n",
    "grouped=pd.DataFrame(df.groupby(df.index).size())\n",
    "grouped"
   ]
  },
  {
   "cell_type": "code",
   "execution_count": 6,
   "metadata": {},
   "outputs": [
    {
     "data": {
      "text/html": [
       "<div>\n",
       "<style scoped>\n",
       "    .dataframe tbody tr th:only-of-type {\n",
       "        vertical-align: middle;\n",
       "    }\n",
       "\n",
       "    .dataframe tbody tr th {\n",
       "        vertical-align: top;\n",
       "    }\n",
       "\n",
       "    .dataframe thead th {\n",
       "        text-align: right;\n",
       "    }\n",
       "</style>\n",
       "<table border=\"1\" class=\"dataframe\">\n",
       "  <thead>\n",
       "    <tr style=\"text-align: right;\">\n",
       "      <th></th>\n",
       "      <th>0</th>\n",
       "    </tr>\n",
       "  </thead>\n",
       "  <tbody>\n",
       "    <tr>\n",
       "      <th>2018-05-22</th>\n",
       "      <td>1</td>\n",
       "    </tr>\n",
       "    <tr>\n",
       "      <th>2018-05-23</th>\n",
       "      <td>2</td>\n",
       "    </tr>\n",
       "    <tr>\n",
       "      <th>2018-05-22</th>\n",
       "      <td>0</td>\n",
       "    </tr>\n",
       "    <tr>\n",
       "      <th>2018-05-23</th>\n",
       "      <td>0</td>\n",
       "    </tr>\n",
       "    <tr>\n",
       "      <th>2018-05-24</th>\n",
       "      <td>0</td>\n",
       "    </tr>\n",
       "    <tr>\n",
       "      <th>2018-05-25</th>\n",
       "      <td>0</td>\n",
       "    </tr>\n",
       "  </tbody>\n",
       "</table>\n",
       "</div>"
      ],
      "text/plain": [
       "            0\n",
       "2018-05-22  1\n",
       "2018-05-23  2\n",
       "2018-05-22  0\n",
       "2018-05-23  0\n",
       "2018-05-24  0\n",
       "2018-05-25  0"
      ]
     },
     "execution_count": 6,
     "metadata": {},
     "output_type": "execute_result"
    }
   ],
   "source": [
    "concated=pd.concat([grouped,days_df])\n",
    "concated\n"
   ]
  },
  {
   "cell_type": "code",
   "execution_count": 7,
   "metadata": {},
   "outputs": [
    {
     "data": {
      "text/html": [
       "<div>\n",
       "<style scoped>\n",
       "    .dataframe tbody tr th:only-of-type {\n",
       "        vertical-align: middle;\n",
       "    }\n",
       "\n",
       "    .dataframe tbody tr th {\n",
       "        vertical-align: top;\n",
       "    }\n",
       "\n",
       "    .dataframe thead th {\n",
       "        text-align: right;\n",
       "    }\n",
       "</style>\n",
       "<table border=\"1\" class=\"dataframe\">\n",
       "  <thead>\n",
       "    <tr style=\"text-align: right;\">\n",
       "      <th></th>\n",
       "      <th>0</th>\n",
       "    </tr>\n",
       "  </thead>\n",
       "  <tbody>\n",
       "    <tr>\n",
       "      <th>2018-05-22</th>\n",
       "      <td>1</td>\n",
       "    </tr>\n",
       "    <tr>\n",
       "      <th>2018-05-23</th>\n",
       "      <td>2</td>\n",
       "    </tr>\n",
       "    <tr>\n",
       "      <th>2018-05-24</th>\n",
       "      <td>0</td>\n",
       "    </tr>\n",
       "    <tr>\n",
       "      <th>2018-05-25</th>\n",
       "      <td>0</td>\n",
       "    </tr>\n",
       "  </tbody>\n",
       "</table>\n",
       "</div>"
      ],
      "text/plain": [
       "            0\n",
       "2018-05-22  1\n",
       "2018-05-23  2\n",
       "2018-05-24  0\n",
       "2018-05-25  0"
      ]
     },
     "execution_count": 7,
     "metadata": {},
     "output_type": "execute_result"
    }
   ],
   "source": [
    "grouped_res=concated.groupby(concated.index)\n",
    "grouped_res.sum()"
   ]
  },
  {
   "cell_type": "code",
   "execution_count": 8,
   "metadata": {},
   "outputs": [],
   "source": [
    "data=concated.values.reshape((len(concated.index)))"
   ]
  }
 ],
 "metadata": {
  "kernelspec": {
   "display_name": "Python 3",
   "language": "python",
   "name": "python3"
  },
  "language_info": {
   "codemirror_mode": {
    "name": "ipython",
    "version": 3
   },
   "file_extension": ".py",
   "mimetype": "text/x-python",
   "name": "python",
   "nbconvert_exporter": "python",
   "pygments_lexer": "ipython3",
   "version": "3.6.3"
  }
 },
 "nbformat": 4,
 "nbformat_minor": 2
}
