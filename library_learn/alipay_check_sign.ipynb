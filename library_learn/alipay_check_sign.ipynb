{
 "cells": [
  {
   "cell_type": "markdown",
   "metadata": {},
   "source": [
    "### 蚂蚁金服开放平台返回数据验签测试\n",
    "[参考文档](https://docs.open.alipay.com/200/106120)"
   ]
  },
  {
   "cell_type": "code",
   "execution_count": 4,
   "metadata": {},
   "outputs": [],
   "source": [
    "#支付宝公钥\n",
    "ALIPAY_PUBLIC_KEY = \"\"\"\n",
    "-----BEGIN PUBLIC KEY-----\n",
    "MIIBIjANBgkqhkiG9w0BAQEFAAOCAQ8AMIIBCgKCAQEAvQhlTTGv9oejiCTWwB4wQQbyMDCwqEI1Gykc0oRBCwwT95rr/9OL6BYV3nlqXzNf+hCG3y+VtUJEa3cyzsBdb7zPp6khgqyqcF12cSMGxbpsS5JnHk5G+wx50m1jSohMnqr3YxrpuNwokXVazG+lqRtF0eGeKt2mfnaKJi1H/zk9cIoSR89kDU98QR7fic8zfaSRpXpINWuzmXUdvD2uAbVmj9QyRZQiBhU+v3T9dVIKoNakoJ8ozqGMOMseQqk+hwwvmsPSxt232I8rF1gHwdWV0UMUCqSJ9nXdxZchsE36GtZTu5GcSskzOdXAzZxcLbb3JrX+ab8AY2f+7z3ikwIDAQAB\n",
    "-----END PUBLIC KEY-----\n",
    "\"\"\"\n",
    "\n",
    "response={\n",
    "  \"koubei_marketing_data_mall_check_get_response\": {\n",
    "    \"code\": \"10000\",\n",
    "    \"msg\": \"Success\",\n",
    "    \"data_results\": [\n",
    "      {\n",
    "        \"data_id\": \"1\",\n",
    "        \"data_status\": \"PASSED\",\n",
    "        \"check_date\": \"2018-06-25 11:19:39\"\n",
    "      }\n",
    "    ]\n",
    "  },\n",
    "  \"sign\": \"iOhF1QkGQRWe0y0GdtQD19bY5iui8l29opFJf77dBhWZTecHFzOUkll6iXt7MgjJcGD2GI489hboQgZtVYtnAP694Msf13UTb4g0ZtwBKwlWa9LFbmiFeXca75tWIFebl08DesJSVsbIEZU+6BvhJ81UO8tFhme/VMeDL67UsuVqfsAUco0swIZn65QW9iWYYQv8C1XUgNjB81K3DgOZUrxW4iVwRxiLDJLowiHLcyCFAONliXpcaASoQWeQuU4fZSZkZ7/WPJzB0Fkfk2JNgFwQBErrGCmYGx26v1UBOUpe5bsRQVrHplRfAigHVWudNXcmWSnPecIOdWKT0InMQg==\"\n",
    "}\n"
   ]
  },
  {
   "cell_type": "code",
   "execution_count": null,
   "metadata": {},
   "outputs": [],
   "source": [
    "def check_ali_sign(payload, sign, alipay_public_key=None):\n",
    "    sign = base64.b64decode(sign)\n",
    "    pubkey = rsa.PublicKey.load_pkcs1_openssl_pem(alipay_public_key)\n",
    "    try:\n",
    "        res = rsa.verify(payload.encode('utf-8'), sign, pubkey)\n",
    "    except Exception as error:\n",
    "        print(error)\n",
    "        res = False\n",
    "    return res\n",
    "\n"
   ]
  }
 ],
 "metadata": {
  "kernelspec": {
   "display_name": "Python 3",
   "language": "python",
   "name": "python3"
  },
  "language_info": {
   "codemirror_mode": {
    "name": "ipython",
    "version": 3
   },
   "file_extension": ".py",
   "mimetype": "text/x-python",
   "name": "python",
   "nbconvert_exporter": "python",
   "pygments_lexer": "ipython3",
   "version": "3.6.1"
  }
 },
 "nbformat": 4,
 "nbformat_minor": 2
}
