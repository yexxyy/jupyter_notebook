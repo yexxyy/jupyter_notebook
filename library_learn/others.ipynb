{
 "cells": [
  {
   "cell_type": "code",
   "execution_count": null,
   "metadata": {},
   "outputs": [],
   "source": [
    "#scrapy selector\n",
    "\n",
    "path='/home/yetongxue/Downloads/tmp/detail.html'\n",
    "from scrapy.selector import Selector\n",
    "with open(path) as f:\n",
    "    html=f.read()\n",
    "    app_name=Selector(text=html).xpath(\"//h1[@class='AHFaub']/span/text()\").extract_first()\n",
    "    company_name=Selector(text=html).xpath(\"//div[@class='i4sPve']/span[1]/a/text()\").extract_first()\n",
    "    game_category=Selector(text=html).xpath(\"//div[@class='i4sPve']/span[2]/a/text()\").extract_first()\n",
    "    fraction=Selector(text=html).xpath(\"//div[@class='BHMmbe']/text()\").extract_first()\n",
    "    score_1=Selector(text=html).xpath(\"//div[@class='VEF2C']/div[5]/span[@class='L2o20d A3ihhc']/@title\").extract_first()\n",
    "    whats_new=Selector(text=html).xpath(\"//div[@itemprop='description']/content/text()\").extract()\n",
    "    \n",
    "    updated=Selector(text=html).xpath(\"//div[@class='xyOfqd']/div[@class='hAyfc'][1]/span/div/span/text()\").extract_first()\n",
    "    email=Selector(text=html).xpath(\"//div[@class='xyOfqd']/div[@class='hAyfc'][10]/span/div/span/div[2]/a/text()\").extract_first()\n",
    "    introduction=Selector(text=html).xpath(\"//div[@class='DWPxHb'][@itemprop='description']/content/div/text()\").extract()\n",
    "\n",
    "    video=Selector(text=html).xpath(\"//div[@class='KDxLi']/div/div[@class='TdqJUe']/button/@data-trailer-url\").extract_first()\n"
   ]
  },
  {
   "cell_type": "code",
   "execution_count": null,
   "metadata": {},
   "outputs": [],
   "source": [
    "# rabbitmq\n",
    "# producer\n",
    "import pika\n",
    "\n",
    "queue_name = 'app_detail'\n",
    "credentials = pika.PlainCredentials(username=settings.RABBITMQ_USER, password=settings.RABBITMQ_PASSWORD)\n",
    "self.connection = pika.BlockingConnection(pika.ConnectionParameters(host=settings.RABBITMQ_HOST, port=settings.RABBITMQ_PORT,\n",
    "credentials=self.credentials, heartbeat=30))\n",
    "channel = self.connection.channel()\n",
    "channel.queue_declare(queue_name)\n",
    "channel.basic_publish(exchange='', routing_key=self.queue_name, body=json.dumps(item._values))"
   ]
  },
  {
   "cell_type": "code",
   "execution_count": null,
   "metadata": {},
   "outputs": [],
   "source": [
    "# consummer\n",
    "\n",
    "def callback(self, ch, method, properties, body):\n",
    "    item = json.loads(body)\n",
    "\n",
    "connection = pika.BlockingConnection(pika.ConnectionParameters(host=RABBITMQ_HOST, port=RABBITMQ_PORT, credentials=self.credentials, heartbeat=30))\n",
    "channel = self.connection.channel()\n",
    "channel.queue_declare(queue=self.queue_name)\n",
    "channel.basic_consume(self.callback, queue=self.queue_name, no_ack=True)\n",
    "logging.info('Data save is reading...')\n",
    "channel.start_consuming()"
   ]
  },
  {
   "cell_type": "code",
   "execution_count": 2,
   "metadata": {},
   "outputs": [],
   "source": [
    "# kinesis\n",
    "# https://github.com/awslabs/amazon-kinesis-client-python\n",
    "# https://boto3.amazonaws.com/v1/documentation/api/latest/reference/services/kinesis.html#client\n",
    "# https://github.com/boto/boto3\n",
    " \n",
    "from amazon_kclpy import kcl\n",
    "import json, base64\n",
    "\n",
    "class RecordProcessor(kcl.RecordProcessorBase):\n",
    "\n",
    "    def initialize(self, shard_id):\n",
    "        pass\n",
    "\n",
    "    def process_records(self, records, checkpointer):\n",
    "        pass\n",
    "\n",
    "    def shutdown(self, checkpointer, reason):\n",
    "        pass\n",
    "\n",
    "kclprocess = kcl.KCLProcess(RecordProcessor())\n",
    "kclprocess.run()"
   ]
  }
 ],
 "metadata": {
  "kernelspec": {
   "display_name": "Python 3",
   "language": "python",
   "name": "python3"
  },
  "language_info": {
   "codemirror_mode": {
    "name": "ipython",
    "version": 3
   },
   "file_extension": ".py",
   "mimetype": "text/x-python",
   "name": "python",
   "nbconvert_exporter": "python",
   "pygments_lexer": "ipython3",
   "version": "3.6.6"
  }
 },
 "nbformat": 4,
 "nbformat_minor": 2
}
