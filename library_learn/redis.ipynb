{
 "cells": [
  {
   "cell_type": "code",
   "execution_count": 1,
   "metadata": {
    "scrolled": true
   },
   "outputs": [],
   "source": [
    "import redis\n",
    "import time\n",
    "import json\n",
    "REDIS=redis.Redis(host='127.0.0.1',port=6379,db=0,decode_responses=True)"
   ]
  },
  {
   "cell_type": "code",
   "execution_count": null,
   "metadata": {},
   "outputs": [],
   "source": [
    "#redis消息对列：生产者消费者模式\n",
    "import redis\n",
    "\n",
    "class Task:\n",
    "    def __init__(self):\n",
    "        self.rcon=redis.Redis(host='localhost',db=5)\n",
    "        self.queue='mes_queue'\n",
    "    \n",
    "    def process_task(self):\n",
    "        while True:\n",
    "            task=self.rcon.blpop(self.queue,0)[1]\n",
    "            print('Task:',task)\n",
    "\n",
    "#监听消息            \n",
    "Task().process_task()\n",
    "\n",
    "#推送消息\n",
    "#然后在另一个地方执行：lpush mes_queue “This is the pushed message”\n"
   ]
  },
  {
   "cell_type": "code",
   "execution_count": null,
   "metadata": {},
   "outputs": [],
   "source": [
    "#redis消息对列：订阅模式\n",
    "import redis\n",
    "\n",
    "class Task:\n",
    "    def __init__(self):\n",
    "        self.rcon=redis.Redis(host='localhost',db=5)\n",
    "        self.ps=self.rcon.pubsub()\n",
    "        self.ps.subscribe('mes_sub')\n",
    "        \n",
    "    def process_task(self):\n",
    "        for i in self.ps.listen():\n",
    "            if i['type']=='message':\n",
    "                print('Task:',i['data'])\n",
    "\n",
    "Task().process_task()\n",
    "\n",
    "#发送消息：\n",
    "#pushlish mes_sub 'This is the subscribe message.'\n"
   ]
  },
  {
   "cell_type": "code",
   "execution_count": 10,
   "metadata": {},
   "outputs": [
    {
     "name": "stdout",
     "output_type": "stream",
     "text": [
      "3\n",
      "None\n"
     ]
    }
   ],
   "source": [
    "# 倒计时\n",
    "import redis,time\n",
    "REDIS = redis.Redis()\n",
    "REDIS.setex('captcha','',5)\n",
    "time.sleep(2)\n",
    "print(REDIS.ttl('captcha'))\n",
    "time.sleep(5)\n",
    "print(REDIS.ttl('captcha'))"
   ]
  },
  {
   "cell_type": "code",
   "execution_count": null,
   "metadata": {},
   "outputs": [],
   "source": [
    "\n",
    "value={\n",
    "    \"error_times\": 130,\n",
    "    \"upstream\": {\"http://1.2.3.4:8080\":5,\"http://3.4.5.6:80\":8},\n",
    "    \"node\": {\"wangchunpengdeMacBook-Pro.local\": 4},\n",
    "    \"host\": [\"www.yuaq.com\", \"static.yunaq.com\", \"img.yunaqu.com\"],\n",
    "    'timeout_conn': 3,\n",
    "    'timeout_read': 5,\n",
    "    'early_close': 3\n",
    "}\n",
    "REDIS.hset('biup.com_2019050715', '201905071503_1556072022.41', json.dumps(value))"
   ]
  },
  {
   "cell_type": "code",
   "execution_count": 14,
   "metadata": {
    "scrolled": true
   },
   "outputs": [
    {
     "data": {
      "text/plain": [
       "True"
      ]
     },
     "execution_count": 14,
     "metadata": {},
     "output_type": "execute_result"
    }
   ],
   "source": [
    "REDIS.set('key', 'value', 100)\n"
   ]
  },
  {
   "cell_type": "code",
   "execution_count": 16,
   "metadata": {},
   "outputs": [],
   "source": [
    "REDIS.delete('key')\n",
    "REDIS.get('key')"
   ]
  },
  {
   "cell_type": "code",
   "execution_count": 22,
   "metadata": {},
   "outputs": [
    {
     "data": {
      "text/plain": [
       "9"
      ]
     },
     "execution_count": 22,
     "metadata": {},
     "output_type": "execute_result"
    }
   ],
   "source": [
    "import datetime\n",
    "timedelta = datetime.datetime.now() + datetime.timedelta(days=10) - datetime.datetime.now() \n",
    "timedelta.days"
   ]
  }
 ],
 "metadata": {
  "kernelspec": {
   "display_name": "Python 3",
   "language": "python",
   "name": "python3"
  },
  "language_info": {
   "codemirror_mode": {
    "name": "ipython",
    "version": 3
   },
   "file_extension": ".py",
   "mimetype": "text/x-python",
   "name": "python",
   "nbconvert_exporter": "python",
   "pygments_lexer": "ipython3",
   "version": "3.6.3"
  }
 },
 "nbformat": 4,
 "nbformat_minor": 2
}
