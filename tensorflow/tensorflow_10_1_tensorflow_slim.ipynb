{
 "cells": [
  {
   "cell_type": "code",
   "execution_count": 1,
   "metadata": {
    "scrolled": true
   },
   "outputs": [],
   "source": [
    "import tensorflow as tf\n",
    "import tensorflow.contrib.slim as slim\n",
    "import numpy as np\n",
    "\n",
    "from tensorflow.examples.tutorials.mnist import input_data\n",
    "\n",
    "#通过slim定义LeNet5网络结构\n",
    "\n",
    "def lenet5(inputs):\n",
    "    inputs = tf.reshape(inputs,[-1,28,28,1])\n",
    "    \n",
    "    #定义一个卷积层\n",
    "    net = slim.conv2d(inputs,32,[5,5],padding='SAME',scope='layer1-conv')\n",
    "    \n",
    "    #定义一个最大池化层\n",
    "    net = slim.max_pool2d(net,2,stride=2,scope='layer2-max-pool')\n",
    "    \n",
    "    net = slim.conv2d(net,64,[5,5],padding='SAME',scope='layer3-conv')\n",
    "    net = slim.max_pool2d(net,2,stride=2,scope='layer4-max-pool')\n",
    "    \n",
    "    net = slim.flatten(net,scope='flatten')\n",
    "    net = slim.fully_connected(net,500,scope='layer5')\n",
    "    net = slim.fully_connected(net,10,scope='layer6')\n",
    "    \n",
    "    return net\n",
    "    \n",
    "    "
   ]
  },
  {
   "cell_type": "code",
   "execution_count": 6,
   "metadata": {},
   "outputs": [
    {
     "name": "stdout",
     "output_type": "stream",
     "text": [
      "Extracting MNIST_data/train-images-idx3-ubyte.gz\n",
      "Extracting MNIST_data/train-labels-idx1-ubyte.gz\n",
      "Extracting MNIST_data/t10k-images-idx3-ubyte.gz\n",
      "Extracting MNIST_data/t10k-labels-idx1-ubyte.gz\n",
      "After 0 training steps,loss=2.297563\n",
      "After 100 training steps,loss=0.919940\n",
      "After 200 training steps,loss=0.454183\n",
      "After 300 training steps,loss=0.705526\n",
      "After 400 training steps,loss=0.460740\n",
      "After 500 training steps,loss=0.309348\n",
      "After 600 training steps,loss=0.211264\n",
      "After 700 training steps,loss=0.286445\n",
      "After 800 training steps,loss=0.255245\n",
      "After 900 training steps,loss=0.300240\n"
     ]
    }
   ],
   "source": [
    "def train(mnist):\n",
    "    x = tf.placeholder(tf.float32,[None,784],name='x-input')\n",
    "    y_ = tf.placeholder(tf.float32,[None,10],name='y-output')\n",
    "    \n",
    "    y = lenet5(x)\n",
    "    \n",
    "    #定义损失函数\n",
    "    cross_entropy=tf.nn.sparse_softmax_cross_entropy_with_logits(\n",
    "        logits=y,\n",
    "        labels=tf.argmax(y_,1)\n",
    "    )\n",
    "    \n",
    "    loss=tf.reduce_mean(cross_entropy)\n",
    "    train_op=tf.train.GradientDescentOptimizer(0.1).minimize(loss)\n",
    "    \n",
    "    #训练\n",
    "    with tf.Session() as sess:\n",
    "        sess.run(tf.global_variables_initializer())\n",
    "        \n",
    "        for i in range(1000):\n",
    "            xs,ys=mnist.train.next_batch(100)\n",
    "            _,loss_value=sess.run([train_op,loss],feed_dict={x:xs,y_:ys})\n",
    "            \n",
    "            if i % 100 == 0:\n",
    "                print 'After %d training steps,loss=%f' %(i,loss_value)\n",
    "\n",
    "def main():\n",
    "    mnist=input_data.read_data_sets('MNIST_data',one_hot=True)\n",
    "    \n",
    "    #第一次运行记得注释掉这行代码\n",
    "    tf.get_variable_scope().reuse_variables()\n",
    "    \n",
    "    train(mnist)\n",
    "    \n",
    "if __name__ == '__main__':\n",
    "    main()"
   ]
  }
 ],
 "metadata": {
  "kernelspec": {
   "display_name": "Python 2",
   "language": "python",
   "name": "python2"
  },
  "language_info": {
   "codemirror_mode": {
    "name": "ipython",
    "version": 2
   },
   "file_extension": ".py",
   "mimetype": "text/x-python",
   "name": "python",
   "nbconvert_exporter": "python",
   "pygments_lexer": "ipython2",
   "version": "2.7.12"
  }
 },
 "nbformat": 4,
 "nbformat_minor": 2
}
