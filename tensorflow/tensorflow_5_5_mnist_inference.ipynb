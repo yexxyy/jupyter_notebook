{
 "cells": [
  {
   "cell_type": "markdown",
   "metadata": {},
   "source": [
    "## 最佳实践样例程序\n",
    "\n",
    "期望：\n",
    "* 向前传播不需要将所有的变量传入\n",
    "* 模型持久化\n",
    "* 训练过程每隔一段实践保存一次模型中间结果，以防程序突然挂掉\n",
    "\n",
    "page126"
   ]
  },
  {
   "cell_type": "code",
   "execution_count": 1,
   "metadata": {},
   "outputs": [],
   "source": [
    "import tensorflow as tf\n",
    "\n",
    "INPUT_NODE=784\n",
    "OUTPUT_NODE=10\n",
    "LAYER1_NODE=500\n",
    "\n",
    "#通过tf.get_varialbe 函数获取变量作用：\n",
    "#创建变量、测试时通过保存的模型读取变量、变量加载时将滑动平均变量重命名\n",
    "#此函数也将变量正则化损失加入损失集合\n",
    "\n",
    "def get_weight_variable(shape,regularizer):\n",
    "    weights=tf.get_variable(\n",
    "        'weights',\n",
    "        shape,\n",
    "        initializer=tf.truncated_normal_initializer(stddev=0.1)\n",
    "    )\n",
    "    \n",
    "    if regularizer!=None:\n",
    "        tf.add_to_collection('losses',regularizer(weights))\n",
    "    return weights\n",
    "    \n",
    "#向前传播\n",
    "def inference(input_tensor,regularizer):\n",
    "    with tf.variable_scope('layer1'):\n",
    "        weights=get_weight_variable([INPUT_NODE,LAYER1_NODE],regularizer)\n",
    "        biases=tf.get_variable('biases',[LAYER1_NODE],initializer=tf.constant_initializer(0.0))\n",
    "    \n",
    "        layer1=tf.nn.relu(tf.matmul(input_tensor,weights)+biases)\n",
    "    \n",
    "    with tf.variable_scope('layer2'):\n",
    "        weights=get_weight_variable([LAYER1_NODE,OUTPUT_NODE],regularizer)\n",
    "        biases=tf.get_variable('biases',[OUTPUT_NODE],initializer=tf.constant_initializer(0.0))\n",
    "        \n",
    "        layer2=tf.matmul(layer1,weights)+biases\n",
    "        \n",
    "    return layer2\n",
    "        "
   ]
  }
 ],
 "metadata": {
  "kernelspec": {
   "display_name": "Python 2",
   "language": "python",
   "name": "python2"
  },
  "language_info": {
   "codemirror_mode": {
    "name": "ipython",
    "version": 2
   },
   "file_extension": ".py",
   "mimetype": "text/x-python",
   "name": "python",
   "nbconvert_exporter": "python",
   "pygments_lexer": "ipython2",
   "version": "2.7.12"
  }
 },
 "nbformat": 4,
 "nbformat_minor": 2
}
