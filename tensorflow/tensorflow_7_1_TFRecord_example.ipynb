{
 "cells": [
  {
   "cell_type": "markdown",
   "metadata": {},
   "source": [
    "### 目标：将flower_photos图片封装层TFRecord文件，并读取TFRecord\n",
    "[点击下载flower_photos数据集](http://download.tensorflow.org/example_images/flower_photos.tgz)\n",
    "\n",
    "page 172"
   ]
  },
  {
   "cell_type": "code",
   "execution_count": 3,
   "metadata": {
    "scrolled": true
   },
   "outputs": [
    {
     "name": "stdout",
     "output_type": "stream",
     "text": [
      "label:0, flower name: roses\n",
      "label:1, flower name: sunflowers\n",
      "label:2, flower name: daisy\n",
      "label:3, flower name: dandelion\n",
      "label:4, flower name: tulips\n"
     ]
    }
   ],
   "source": [
    "#图片转TFRecord文件\n",
    "\n",
    "import tensorflow as tf\n",
    "import glob,os\n",
    "from PIL import Image\n",
    "\n",
    "BATCH_SIZE=5\n",
    "FLOWER_PHOTOS='flower_photos'\n",
    "IS_TEST=True\n",
    "OUTPUT=os.path.join(FLOWER_PHOTOS,'output.tfrecords')\n",
    "IMAGE_SIZE=299\n",
    "\n",
    "def int64_feature(value):\n",
    "    return tf.train.Feature(int64_list=tf.train.Int64List(value=[value]))\n",
    "\n",
    "\n",
    "def bytes_feature(value):\n",
    "    return tf.train.Feature(bytes_list=tf.train.BytesList(value=[value]))\n",
    "\n",
    "def to_tfexample(image,label):\n",
    "    return tf.train.Example(features=tf.train.Features(feature={\n",
    "        'image':bytes_feature(image),\n",
    "        'label':int64_feature(label)\n",
    "    }))\n",
    "\n",
    "def generate_tfrecord(writer):\n",
    "    sub_dirs=[_[0] for _ in os.walk(FLOWER_PHOTOS)][1:]\n",
    "    sub_dirs.remove('flower_photos/.ipynb_checkpoints')\n",
    "    \n",
    "    for index,_ in enumerate(sub_dirs):\n",
    "        print 'label:%d, flower name: %s' %(index,os.path.basename(_))\n",
    "        \n",
    "        #拼接glob匹配的文件名\n",
    "        re=os.path.join(_,'*.jpg')\n",
    "        files=glob.glob(re)[:10] if IS_TEST else glob.glob(re)\n",
    "        \n",
    "        for path in files:\n",
    "    \n",
    "            image=Image.open(path)\n",
    "            resized=image.resize((IMAGE_SIZE,IMAGE_SIZE))\n",
    "            image_bytes=resized.tobytes()\n",
    "            \n",
    "            example=to_tfexample(image_bytes,index)\n",
    "            writer.write(example.SerializeToString())\n",
    "\n",
    "    \n",
    "with tf.python_io.TFRecordWriter(OUTPUT) as writer:\n",
    "    generate_tfrecord(writer)\n",
    "    "
   ]
  },
  {
   "cell_type": "code",
   "execution_count": null,
   "metadata": {},
   "outputs": [
    {
     "name": "stdout",
     "output_type": "stream",
     "text": [
      "(5, 299, 299, 3) [1 0 4 2 3]\n",
      "(5, 299, 299, 3) [3 4 4 3 1]\n",
      "(5, 299, 299, 3) [4 1 2 3 3]\n",
      "(5, 299, 299, 3) [4 4 2 3 1]"
     ]
    }
   ],
   "source": [
    "#读取TFRecord文件\n",
    "\n",
    "def read_tfrecord(path=OUTPUT):\n",
    "    reader=tf.TFRecordReader()\n",
    "    filename_queue=tf.train.string_input_producer([path])\n",
    "    \n",
    "    _,serialized_example=reader.read(filename_queue)\n",
    "    \n",
    "    #解析example\n",
    "    features=tf.parse_single_example(serialized_example,features={\n",
    "        'image':tf.FixedLenFeature([],tf.string),\n",
    "        'label':tf.FixedLenFeature([],tf.int64)\n",
    "    })\n",
    "    single_image=tf.decode_raw(features['image'],tf.uint8)\n",
    "    single_image=tf.reshape(single_image,[IMAGE_SIZE,IMAGE_SIZE,3])\n",
    "    \n",
    "    single_label=tf.cast(features['label'],tf.int32)\n",
    "\n",
    "    return single_image,single_label\n",
    "\n",
    "single_image,single_label=read_tfrecord()\n",
    "image_batch, label_batch = tf.train.shuffle_batch(\n",
    "        [single_image, single_label],\n",
    "        batch_size=BATCH_SIZE,\n",
    "        num_threads=4,\n",
    "        capacity=50000,\n",
    "        min_after_dequeue=10000\n",
    ")\n",
    "\n",
    "with tf.Session() as sess:\n",
    "    # 创建一个协调器，管理线程\n",
    "    coord = tf.train.Coordinator()\n",
    "    # 启动QueueRunner, 此时文件名队列已经进队\n",
    "    threads = tf.train.start_queue_runners(sess=sess, coord=coord)\n",
    "    \n",
    "    #获取5批次数据\n",
    "    for _ in range(4):\n",
    "        _image_batch,_label_batch = sess.run([image_batch,label_batch])\n",
    "        print _image_batch.shape,_label_batch\n",
    "    \n",
    "    \n",
    "    \n",
    "    # 通知其他线程关闭\n",
    "    coord.request_stop()\n",
    "    # 其他所有线程关闭之后，这一函数才能返回\n",
    "    coord.join(threads)"
   ]
  }
 ],
 "metadata": {
  "kernelspec": {
   "display_name": "Python 3",
   "language": "python",
   "name": "python3"
  },
  "language_info": {
   "codemirror_mode": {
    "name": "ipython",
    "version": 3
   },
   "file_extension": ".py",
   "mimetype": "text/x-python",
   "name": "python",
   "nbconvert_exporter": "python",
   "pygments_lexer": "ipython3",
   "version": "3.6.1"
  }
 },
 "nbformat": 4,
 "nbformat_minor": 2
}
