{
 "cells": [
  {
   "cell_type": "markdown",
   "metadata": {},
   "source": [
    "`pip install keras`\n",
    "\n",
    "## Keras基本用法\n",
    "以下代码展示如何使用Keras API 在MNIST数据集上实现LeNet-5模型\n",
    "\n",
    "page 267"
   ]
  },
  {
   "cell_type": "code",
   "execution_count": 2,
   "metadata": {
    "scrolled": true
   },
   "outputs": [
    {
     "name": "stdout",
     "output_type": "stream",
     "text": [
      "Train on 60000 samples, validate on 10000 samples\n",
      "Epoch 1/5\n",
      "60000/60000 [==============================] - 55s 923us/step - loss: 0.9932 - acc: 0.7541 - val_loss: 0.3142 - val_acc: 0.9098\n",
      "Epoch 2/5\n",
      "60000/60000 [==============================] - 56s 928us/step - loss: 0.2639 - acc: 0.9213 - val_loss: 0.1940 - val_acc: 0.9433\n",
      "Epoch 3/5\n",
      "60000/60000 [==============================] - 55s 920us/step - loss: 0.1860 - acc: 0.9448 - val_loss: 0.1500 - val_acc: 0.9559\n",
      "Epoch 4/5\n",
      "60000/60000 [==============================] - 56s 928us/step - loss: 0.1445 - acc: 0.9575 - val_loss: 0.1122 - val_acc: 0.9668\n",
      "Epoch 5/5\n",
      "60000/60000 [==============================] - 55s 918us/step - loss: 0.1195 - acc: 0.9649 - val_loss: 0.0983 - val_acc: 0.9701\n",
      "10000/10000 [==============================] - 4s 393us/step\n",
      "Test loss=0.098305, test accuracy=0.970100\n"
     ]
    }
   ],
   "source": [
    "import keras\n",
    "from keras.datasets import mnist\n",
    "from keras.models import Sequential\n",
    "from keras.layers import Dense,Flatten,Conv2D,MaxPooling2D\n",
    "from keras import backend as K\n",
    "\n",
    "num_classes=10\n",
    "img_rows,img_cols=28, 28\n",
    "\n",
    "#加载数据\n",
    "#trainX.shape=[60000, 28, 28]\n",
    "(trainX, trainY),(testX, testY)=mnist.load_data()\n",
    "\n",
    "#因为对应不同的底层（Tensorflow、MxNet）对输入的要求不一样，根据图像的编码格式要求来设置输入层的格式\n",
    "if K.image_data_format()=='channels_first':\n",
    "    trainX = trainX.reshape(trainX.shape[0],1,img_rows,img_cols)\n",
    "    testX = testX.reshape(testX.shape[0],1,img_rows,img_cols)\n",
    "    \n",
    "    input_shape=(1, img_rows, img_cols)\n",
    "else:\n",
    "    trainX=trainX.reshape(trainX.shape[0],img_rows,img_cols,1)\n",
    "    testX = testX.reshape(testX.shape[0],img_rows,img_cols,1)\n",
    "    \n",
    "    input_shape=(img_rows, img_cols ,1)\n",
    "    \n",
    "    \n",
    "#将图像转化成0-1实数\n",
    "trainX=trainX.astype('float32')\n",
    "testX=testX.astype('float32')\n",
    "trainX /= 255.0\n",
    "testX /= 255.0\n",
    "\n",
    "#label to one-hot\n",
    "trainY = keras.utils.to_categorical(trainY,num_classes)\n",
    "testY = keras.utils.to_categorical(testY,num_classes)\n",
    "\n",
    "#使用Keras API 定义模型\n",
    "model = Sequential()\n",
    "\n",
    "#添加深度32卷积核大小（5，5）的卷积核\n",
    "model.add(Conv2D(32,kernel_size=(5,5),activation='relu',input_shape=input_shape))\n",
    "\n",
    "model.add(MaxPooling2D(pool_size=(2,2)))\n",
    "\n",
    "model.add(Conv2D(64,kernel_size=(5,5),activation='relu'))\n",
    "\n",
    "model.add(MaxPooling2D(pool_size=(2,2)))\n",
    "\n",
    "model.add(Flatten())\n",
    "\n",
    "#全连接\n",
    "model.add(Dense(500,activation='relu'))\n",
    "\n",
    "#全连接输出\n",
    "model.add(Dense(num_classes,activation='softmax'))\n",
    "\"\"\"\n",
    "TypeError: softmax() got an unexpected keyword argument 'axis'\n",
    "\n",
    "Switched to keras==2.1.3 ,then restart jupyter Kernel.\n",
    "\"\"\"\n",
    "\n",
    "\n",
    "#定义损失函数、优化函数、评测方法\n",
    "model.compile(\n",
    "    loss=keras.losses.categorical_crossentropy,\n",
    "    optimizer=keras.optimizers.SGD(),\n",
    "    metrics=['accuracy']\n",
    ")\n",
    "\n",
    "#自动完成模型训练\n",
    "\n",
    "model.fit(trainX,trainY,batch_size=128,epochs=5,validation_data=(testX,testY))\n",
    "\n",
    "\n",
    "#测试准确率\n",
    "score = model.evaluate(testX,testY)\n",
    "print 'Test loss=%f, test accuracy=%f' % (score[0], score[1])\n"
   ]
  }
 ],
 "metadata": {
  "kernelspec": {
   "display_name": "Python 2",
   "language": "python",
   "name": "python2"
  },
  "language_info": {
   "codemirror_mode": {
    "name": "ipython",
    "version": 2
   },
   "file_extension": ".py",
   "mimetype": "text/x-python",
   "name": "python",
   "nbconvert_exporter": "python",
   "pygments_lexer": "ipython2",
   "version": "2.7.12"
  }
 },
 "nbformat": 4,
 "nbformat_minor": 2
}
